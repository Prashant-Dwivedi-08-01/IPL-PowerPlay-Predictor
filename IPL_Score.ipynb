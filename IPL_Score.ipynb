{
 "cells": [
  {
   "cell_type": "markdown",
   "metadata": {},
   "source": [
    " ### Import Packages"
   ]
  },
  {
   "cell_type": "code",
   "execution_count": 38,
   "metadata": {},
   "outputs": [],
   "source": [
    "import pandas as pd\n",
    "import numpy as np\n",
    "import matplotlib.pyplot as plt\n",
    "from sklearn.linear_model import LinearRegression\n",
    "from sklearn.metrics import r2_score\n",
    "from sklearn import metrics"
   ]
  },
  {
   "cell_type": "markdown",
   "metadata": {},
   "source": [
    "### Loading the Dataset"
   ]
  },
  {
   "cell_type": "code",
   "execution_count": 2,
   "metadata": {},
   "outputs": [
    {
     "name": "stderr",
     "output_type": "stream",
     "text": [
      "c:\\users\\prash\\appdata\\local\\programs\\python\\python38\\lib\\site-packages\\IPython\\core\\interactiveshell.py:3169: DtypeWarning: Columns (1) have mixed types.Specify dtype option on import or set low_memory=False.\n",
      "  has_raised = await self.run_ast_nodes(code_ast.body, cell_name,\n"
     ]
    },
    {
     "data": {
      "text/html": [
       "<div>\n",
       "<style scoped>\n",
       "    .dataframe tbody tr th:only-of-type {\n",
       "        vertical-align: middle;\n",
       "    }\n",
       "\n",
       "    .dataframe tbody tr th {\n",
       "        vertical-align: top;\n",
       "    }\n",
       "\n",
       "    .dataframe thead th {\n",
       "        text-align: right;\n",
       "    }\n",
       "</style>\n",
       "<table border=\"1\" class=\"dataframe\">\n",
       "  <thead>\n",
       "    <tr style=\"text-align: right;\">\n",
       "      <th></th>\n",
       "      <th>match_id</th>\n",
       "      <th>season</th>\n",
       "      <th>start_date</th>\n",
       "      <th>venue</th>\n",
       "      <th>innings</th>\n",
       "      <th>ball</th>\n",
       "      <th>batting_team</th>\n",
       "      <th>bowling_team</th>\n",
       "      <th>striker</th>\n",
       "      <th>non_striker</th>\n",
       "      <th>bowler</th>\n",
       "      <th>runs_off_bat</th>\n",
       "      <th>extras</th>\n",
       "      <th>wides</th>\n",
       "      <th>noballs</th>\n",
       "      <th>byes</th>\n",
       "      <th>legbyes</th>\n",
       "      <th>penalty</th>\n",
       "      <th>wicket_type</th>\n",
       "      <th>player_dismissed</th>\n",
       "      <th>other_wicket_type</th>\n",
       "      <th>other_player_dismissed</th>\n",
       "    </tr>\n",
       "  </thead>\n",
       "  <tbody>\n",
       "    <tr>\n",
       "      <th>0</th>\n",
       "      <td>335982</td>\n",
       "      <td>2007/08</td>\n",
       "      <td>18-04-2008</td>\n",
       "      <td>M Chinnaswamy Stadium</td>\n",
       "      <td>1</td>\n",
       "      <td>0.1</td>\n",
       "      <td>Kolkata Knight Riders</td>\n",
       "      <td>Royal Challengers Bangalore</td>\n",
       "      <td>SC Ganguly</td>\n",
       "      <td>BB McCullum</td>\n",
       "      <td>P Kumar</td>\n",
       "      <td>0</td>\n",
       "      <td>1</td>\n",
       "      <td>NaN</td>\n",
       "      <td>NaN</td>\n",
       "      <td>NaN</td>\n",
       "      <td>1.0</td>\n",
       "      <td>NaN</td>\n",
       "      <td>NaN</td>\n",
       "      <td>NaN</td>\n",
       "      <td>NaN</td>\n",
       "      <td>NaN</td>\n",
       "    </tr>\n",
       "    <tr>\n",
       "      <th>1</th>\n",
       "      <td>335982</td>\n",
       "      <td>2007/08</td>\n",
       "      <td>18-04-2008</td>\n",
       "      <td>M Chinnaswamy Stadium</td>\n",
       "      <td>1</td>\n",
       "      <td>0.2</td>\n",
       "      <td>Kolkata Knight Riders</td>\n",
       "      <td>Royal Challengers Bangalore</td>\n",
       "      <td>BB McCullum</td>\n",
       "      <td>SC Ganguly</td>\n",
       "      <td>P Kumar</td>\n",
       "      <td>0</td>\n",
       "      <td>0</td>\n",
       "      <td>NaN</td>\n",
       "      <td>NaN</td>\n",
       "      <td>NaN</td>\n",
       "      <td>NaN</td>\n",
       "      <td>NaN</td>\n",
       "      <td>NaN</td>\n",
       "      <td>NaN</td>\n",
       "      <td>NaN</td>\n",
       "      <td>NaN</td>\n",
       "    </tr>\n",
       "    <tr>\n",
       "      <th>2</th>\n",
       "      <td>335982</td>\n",
       "      <td>2007/08</td>\n",
       "      <td>18-04-2008</td>\n",
       "      <td>M Chinnaswamy Stadium</td>\n",
       "      <td>1</td>\n",
       "      <td>0.3</td>\n",
       "      <td>Kolkata Knight Riders</td>\n",
       "      <td>Royal Challengers Bangalore</td>\n",
       "      <td>BB McCullum</td>\n",
       "      <td>SC Ganguly</td>\n",
       "      <td>P Kumar</td>\n",
       "      <td>0</td>\n",
       "      <td>1</td>\n",
       "      <td>1.0</td>\n",
       "      <td>NaN</td>\n",
       "      <td>NaN</td>\n",
       "      <td>NaN</td>\n",
       "      <td>NaN</td>\n",
       "      <td>NaN</td>\n",
       "      <td>NaN</td>\n",
       "      <td>NaN</td>\n",
       "      <td>NaN</td>\n",
       "    </tr>\n",
       "    <tr>\n",
       "      <th>3</th>\n",
       "      <td>335982</td>\n",
       "      <td>2007/08</td>\n",
       "      <td>18-04-2008</td>\n",
       "      <td>M Chinnaswamy Stadium</td>\n",
       "      <td>1</td>\n",
       "      <td>0.4</td>\n",
       "      <td>Kolkata Knight Riders</td>\n",
       "      <td>Royal Challengers Bangalore</td>\n",
       "      <td>BB McCullum</td>\n",
       "      <td>SC Ganguly</td>\n",
       "      <td>P Kumar</td>\n",
       "      <td>0</td>\n",
       "      <td>0</td>\n",
       "      <td>NaN</td>\n",
       "      <td>NaN</td>\n",
       "      <td>NaN</td>\n",
       "      <td>NaN</td>\n",
       "      <td>NaN</td>\n",
       "      <td>NaN</td>\n",
       "      <td>NaN</td>\n",
       "      <td>NaN</td>\n",
       "      <td>NaN</td>\n",
       "    </tr>\n",
       "    <tr>\n",
       "      <th>4</th>\n",
       "      <td>335982</td>\n",
       "      <td>2007/08</td>\n",
       "      <td>18-04-2008</td>\n",
       "      <td>M Chinnaswamy Stadium</td>\n",
       "      <td>1</td>\n",
       "      <td>0.5</td>\n",
       "      <td>Kolkata Knight Riders</td>\n",
       "      <td>Royal Challengers Bangalore</td>\n",
       "      <td>BB McCullum</td>\n",
       "      <td>SC Ganguly</td>\n",
       "      <td>P Kumar</td>\n",
       "      <td>0</td>\n",
       "      <td>0</td>\n",
       "      <td>NaN</td>\n",
       "      <td>NaN</td>\n",
       "      <td>NaN</td>\n",
       "      <td>NaN</td>\n",
       "      <td>NaN</td>\n",
       "      <td>NaN</td>\n",
       "      <td>NaN</td>\n",
       "      <td>NaN</td>\n",
       "      <td>NaN</td>\n",
       "    </tr>\n",
       "  </tbody>\n",
       "</table>\n",
       "</div>"
      ],
      "text/plain": [
       "   match_id   season  start_date                  venue  innings  ball  \\\n",
       "0    335982  2007/08  18-04-2008  M Chinnaswamy Stadium        1   0.1   \n",
       "1    335982  2007/08  18-04-2008  M Chinnaswamy Stadium        1   0.2   \n",
       "2    335982  2007/08  18-04-2008  M Chinnaswamy Stadium        1   0.3   \n",
       "3    335982  2007/08  18-04-2008  M Chinnaswamy Stadium        1   0.4   \n",
       "4    335982  2007/08  18-04-2008  M Chinnaswamy Stadium        1   0.5   \n",
       "\n",
       "            batting_team                 bowling_team      striker  \\\n",
       "0  Kolkata Knight Riders  Royal Challengers Bangalore   SC Ganguly   \n",
       "1  Kolkata Knight Riders  Royal Challengers Bangalore  BB McCullum   \n",
       "2  Kolkata Knight Riders  Royal Challengers Bangalore  BB McCullum   \n",
       "3  Kolkata Knight Riders  Royal Challengers Bangalore  BB McCullum   \n",
       "4  Kolkata Knight Riders  Royal Challengers Bangalore  BB McCullum   \n",
       "\n",
       "   non_striker   bowler  runs_off_bat  extras  wides  noballs  byes  legbyes  \\\n",
       "0  BB McCullum  P Kumar             0       1    NaN      NaN   NaN      1.0   \n",
       "1   SC Ganguly  P Kumar             0       0    NaN      NaN   NaN      NaN   \n",
       "2   SC Ganguly  P Kumar             0       1    1.0      NaN   NaN      NaN   \n",
       "3   SC Ganguly  P Kumar             0       0    NaN      NaN   NaN      NaN   \n",
       "4   SC Ganguly  P Kumar             0       0    NaN      NaN   NaN      NaN   \n",
       "\n",
       "   penalty wicket_type player_dismissed  other_wicket_type  \\\n",
       "0      NaN         NaN              NaN                NaN   \n",
       "1      NaN         NaN              NaN                NaN   \n",
       "2      NaN         NaN              NaN                NaN   \n",
       "3      NaN         NaN              NaN                NaN   \n",
       "4      NaN         NaN              NaN                NaN   \n",
       "\n",
       "   other_player_dismissed  \n",
       "0                     NaN  \n",
       "1                     NaN  \n",
       "2                     NaN  \n",
       "3                     NaN  \n",
       "4                     NaN  "
      ]
     },
     "execution_count": 2,
     "metadata": {},
     "output_type": "execute_result"
    }
   ],
   "source": [
    "df = pd.read_csv(\"ipl_csv2/all_matches.csv\")\n",
    "pd.set_option(\"display.max_columns\", None)\n",
    "df.head()"
   ]
  },
  {
   "cell_type": "markdown",
   "metadata": {},
   "source": [
    "### Converting the Complete Date into Year Format Only"
   ]
  },
  {
   "cell_type": "code",
   "execution_count": 3,
   "metadata": {},
   "outputs": [
    {
     "name": "stdout",
     "output_type": "stream",
     "text": [
      "<class 'pandas.core.series.Series'>\n"
     ]
    },
    {
     "data": {
      "text/html": [
       "<div>\n",
       "<style scoped>\n",
       "    .dataframe tbody tr th:only-of-type {\n",
       "        vertical-align: middle;\n",
       "    }\n",
       "\n",
       "    .dataframe tbody tr th {\n",
       "        vertical-align: top;\n",
       "    }\n",
       "\n",
       "    .dataframe thead th {\n",
       "        text-align: right;\n",
       "    }\n",
       "</style>\n",
       "<table border=\"1\" class=\"dataframe\">\n",
       "  <thead>\n",
       "    <tr style=\"text-align: right;\">\n",
       "      <th></th>\n",
       "      <th>match_id</th>\n",
       "      <th>season</th>\n",
       "      <th>start_date</th>\n",
       "      <th>venue</th>\n",
       "      <th>innings</th>\n",
       "      <th>ball</th>\n",
       "      <th>batting_team</th>\n",
       "      <th>bowling_team</th>\n",
       "      <th>striker</th>\n",
       "      <th>non_striker</th>\n",
       "      <th>bowler</th>\n",
       "      <th>runs_off_bat</th>\n",
       "      <th>extras</th>\n",
       "      <th>wides</th>\n",
       "      <th>noballs</th>\n",
       "      <th>byes</th>\n",
       "      <th>legbyes</th>\n",
       "      <th>penalty</th>\n",
       "      <th>wicket_type</th>\n",
       "      <th>player_dismissed</th>\n",
       "      <th>other_wicket_type</th>\n",
       "      <th>other_player_dismissed</th>\n",
       "    </tr>\n",
       "  </thead>\n",
       "  <tbody>\n",
       "    <tr>\n",
       "      <th>0</th>\n",
       "      <td>335982</td>\n",
       "      <td>2007/08</td>\n",
       "      <td>2008</td>\n",
       "      <td>M Chinnaswamy Stadium</td>\n",
       "      <td>1</td>\n",
       "      <td>0.1</td>\n",
       "      <td>Kolkata Knight Riders</td>\n",
       "      <td>Royal Challengers Bangalore</td>\n",
       "      <td>SC Ganguly</td>\n",
       "      <td>BB McCullum</td>\n",
       "      <td>P Kumar</td>\n",
       "      <td>0</td>\n",
       "      <td>1</td>\n",
       "      <td>NaN</td>\n",
       "      <td>NaN</td>\n",
       "      <td>NaN</td>\n",
       "      <td>1.0</td>\n",
       "      <td>NaN</td>\n",
       "      <td>NaN</td>\n",
       "      <td>NaN</td>\n",
       "      <td>NaN</td>\n",
       "      <td>NaN</td>\n",
       "    </tr>\n",
       "    <tr>\n",
       "      <th>1</th>\n",
       "      <td>335982</td>\n",
       "      <td>2007/08</td>\n",
       "      <td>2008</td>\n",
       "      <td>M Chinnaswamy Stadium</td>\n",
       "      <td>1</td>\n",
       "      <td>0.2</td>\n",
       "      <td>Kolkata Knight Riders</td>\n",
       "      <td>Royal Challengers Bangalore</td>\n",
       "      <td>BB McCullum</td>\n",
       "      <td>SC Ganguly</td>\n",
       "      <td>P Kumar</td>\n",
       "      <td>0</td>\n",
       "      <td>0</td>\n",
       "      <td>NaN</td>\n",
       "      <td>NaN</td>\n",
       "      <td>NaN</td>\n",
       "      <td>NaN</td>\n",
       "      <td>NaN</td>\n",
       "      <td>NaN</td>\n",
       "      <td>NaN</td>\n",
       "      <td>NaN</td>\n",
       "      <td>NaN</td>\n",
       "    </tr>\n",
       "    <tr>\n",
       "      <th>2</th>\n",
       "      <td>335982</td>\n",
       "      <td>2007/08</td>\n",
       "      <td>2008</td>\n",
       "      <td>M Chinnaswamy Stadium</td>\n",
       "      <td>1</td>\n",
       "      <td>0.3</td>\n",
       "      <td>Kolkata Knight Riders</td>\n",
       "      <td>Royal Challengers Bangalore</td>\n",
       "      <td>BB McCullum</td>\n",
       "      <td>SC Ganguly</td>\n",
       "      <td>P Kumar</td>\n",
       "      <td>0</td>\n",
       "      <td>1</td>\n",
       "      <td>1.0</td>\n",
       "      <td>NaN</td>\n",
       "      <td>NaN</td>\n",
       "      <td>NaN</td>\n",
       "      <td>NaN</td>\n",
       "      <td>NaN</td>\n",
       "      <td>NaN</td>\n",
       "      <td>NaN</td>\n",
       "      <td>NaN</td>\n",
       "    </tr>\n",
       "    <tr>\n",
       "      <th>3</th>\n",
       "      <td>335982</td>\n",
       "      <td>2007/08</td>\n",
       "      <td>2008</td>\n",
       "      <td>M Chinnaswamy Stadium</td>\n",
       "      <td>1</td>\n",
       "      <td>0.4</td>\n",
       "      <td>Kolkata Knight Riders</td>\n",
       "      <td>Royal Challengers Bangalore</td>\n",
       "      <td>BB McCullum</td>\n",
       "      <td>SC Ganguly</td>\n",
       "      <td>P Kumar</td>\n",
       "      <td>0</td>\n",
       "      <td>0</td>\n",
       "      <td>NaN</td>\n",
       "      <td>NaN</td>\n",
       "      <td>NaN</td>\n",
       "      <td>NaN</td>\n",
       "      <td>NaN</td>\n",
       "      <td>NaN</td>\n",
       "      <td>NaN</td>\n",
       "      <td>NaN</td>\n",
       "      <td>NaN</td>\n",
       "    </tr>\n",
       "    <tr>\n",
       "      <th>4</th>\n",
       "      <td>335982</td>\n",
       "      <td>2007/08</td>\n",
       "      <td>2008</td>\n",
       "      <td>M Chinnaswamy Stadium</td>\n",
       "      <td>1</td>\n",
       "      <td>0.5</td>\n",
       "      <td>Kolkata Knight Riders</td>\n",
       "      <td>Royal Challengers Bangalore</td>\n",
       "      <td>BB McCullum</td>\n",
       "      <td>SC Ganguly</td>\n",
       "      <td>P Kumar</td>\n",
       "      <td>0</td>\n",
       "      <td>0</td>\n",
       "      <td>NaN</td>\n",
       "      <td>NaN</td>\n",
       "      <td>NaN</td>\n",
       "      <td>NaN</td>\n",
       "      <td>NaN</td>\n",
       "      <td>NaN</td>\n",
       "      <td>NaN</td>\n",
       "      <td>NaN</td>\n",
       "      <td>NaN</td>\n",
       "    </tr>\n",
       "  </tbody>\n",
       "</table>\n",
       "</div>"
      ],
      "text/plain": [
       "   match_id   season  start_date                  venue  innings  ball  \\\n",
       "0    335982  2007/08        2008  M Chinnaswamy Stadium        1   0.1   \n",
       "1    335982  2007/08        2008  M Chinnaswamy Stadium        1   0.2   \n",
       "2    335982  2007/08        2008  M Chinnaswamy Stadium        1   0.3   \n",
       "3    335982  2007/08        2008  M Chinnaswamy Stadium        1   0.4   \n",
       "4    335982  2007/08        2008  M Chinnaswamy Stadium        1   0.5   \n",
       "\n",
       "            batting_team                 bowling_team      striker  \\\n",
       "0  Kolkata Knight Riders  Royal Challengers Bangalore   SC Ganguly   \n",
       "1  Kolkata Knight Riders  Royal Challengers Bangalore  BB McCullum   \n",
       "2  Kolkata Knight Riders  Royal Challengers Bangalore  BB McCullum   \n",
       "3  Kolkata Knight Riders  Royal Challengers Bangalore  BB McCullum   \n",
       "4  Kolkata Knight Riders  Royal Challengers Bangalore  BB McCullum   \n",
       "\n",
       "   non_striker   bowler  runs_off_bat  extras  wides  noballs  byes  legbyes  \\\n",
       "0  BB McCullum  P Kumar             0       1    NaN      NaN   NaN      1.0   \n",
       "1   SC Ganguly  P Kumar             0       0    NaN      NaN   NaN      NaN   \n",
       "2   SC Ganguly  P Kumar             0       1    1.0      NaN   NaN      NaN   \n",
       "3   SC Ganguly  P Kumar             0       0    NaN      NaN   NaN      NaN   \n",
       "4   SC Ganguly  P Kumar             0       0    NaN      NaN   NaN      NaN   \n",
       "\n",
       "   penalty wicket_type player_dismissed  other_wicket_type  \\\n",
       "0      NaN         NaN              NaN                NaN   \n",
       "1      NaN         NaN              NaN                NaN   \n",
       "2      NaN         NaN              NaN                NaN   \n",
       "3      NaN         NaN              NaN                NaN   \n",
       "4      NaN         NaN              NaN                NaN   \n",
       "\n",
       "   other_player_dismissed  \n",
       "0                     NaN  \n",
       "1                     NaN  \n",
       "2                     NaN  \n",
       "3                     NaN  \n",
       "4                     NaN  "
      ]
     },
     "execution_count": 3,
     "metadata": {},
     "output_type": "execute_result"
    }
   ],
   "source": [
    "from datetime import datetime\n",
    "df['start_date'] = df['start_date'].apply(lambda x: datetime.strptime(x, '%d-%m-%Y'))\n",
    "df['start_date'] = df['start_date'].dt.year\n",
    "df[\"start_date\"] = df[\"start_date\"].astype(int)\n",
    "print(type(df[\"start_date\"]))\n",
    "df.head()"
   ]
  },
  {
   "cell_type": "markdown",
   "metadata": {},
   "source": [
    "### Feature Selection\n",
    "> Only feature to be used are \n",
    "\n",
    "> [\"match_id\",\"start_date\" ,\"ball\" , \"venue\", \"innings\", \"batting_team\", \"bowling_team\", \"striker\", \"non_striker\",\"bowler\", \"runs_off_bat\",\"extras\"]"
   ]
  },
  {
   "cell_type": "code",
   "execution_count": 4,
   "metadata": {},
   "outputs": [
    {
     "data": {
      "text/html": [
       "<div>\n",
       "<style scoped>\n",
       "    .dataframe tbody tr th:only-of-type {\n",
       "        vertical-align: middle;\n",
       "    }\n",
       "\n",
       "    .dataframe tbody tr th {\n",
       "        vertical-align: top;\n",
       "    }\n",
       "\n",
       "    .dataframe thead th {\n",
       "        text-align: right;\n",
       "    }\n",
       "</style>\n",
       "<table border=\"1\" class=\"dataframe\">\n",
       "  <thead>\n",
       "    <tr style=\"text-align: right;\">\n",
       "      <th></th>\n",
       "      <th>match_id</th>\n",
       "      <th>start_date</th>\n",
       "      <th>ball</th>\n",
       "      <th>venue</th>\n",
       "      <th>innings</th>\n",
       "      <th>batting_team</th>\n",
       "      <th>bowling_team</th>\n",
       "      <th>striker</th>\n",
       "      <th>non_striker</th>\n",
       "      <th>bowler</th>\n",
       "      <th>runs_off_bat</th>\n",
       "      <th>extras</th>\n",
       "    </tr>\n",
       "  </thead>\n",
       "  <tbody>\n",
       "    <tr>\n",
       "      <th>0</th>\n",
       "      <td>335982</td>\n",
       "      <td>2008</td>\n",
       "      <td>0.1</td>\n",
       "      <td>M Chinnaswamy Stadium</td>\n",
       "      <td>1</td>\n",
       "      <td>Kolkata Knight Riders</td>\n",
       "      <td>Royal Challengers Bangalore</td>\n",
       "      <td>SC Ganguly</td>\n",
       "      <td>BB McCullum</td>\n",
       "      <td>P Kumar</td>\n",
       "      <td>0</td>\n",
       "      <td>1</td>\n",
       "    </tr>\n",
       "    <tr>\n",
       "      <th>1</th>\n",
       "      <td>335982</td>\n",
       "      <td>2008</td>\n",
       "      <td>0.2</td>\n",
       "      <td>M Chinnaswamy Stadium</td>\n",
       "      <td>1</td>\n",
       "      <td>Kolkata Knight Riders</td>\n",
       "      <td>Royal Challengers Bangalore</td>\n",
       "      <td>BB McCullum</td>\n",
       "      <td>SC Ganguly</td>\n",
       "      <td>P Kumar</td>\n",
       "      <td>0</td>\n",
       "      <td>0</td>\n",
       "    </tr>\n",
       "    <tr>\n",
       "      <th>2</th>\n",
       "      <td>335982</td>\n",
       "      <td>2008</td>\n",
       "      <td>0.3</td>\n",
       "      <td>M Chinnaswamy Stadium</td>\n",
       "      <td>1</td>\n",
       "      <td>Kolkata Knight Riders</td>\n",
       "      <td>Royal Challengers Bangalore</td>\n",
       "      <td>BB McCullum</td>\n",
       "      <td>SC Ganguly</td>\n",
       "      <td>P Kumar</td>\n",
       "      <td>0</td>\n",
       "      <td>1</td>\n",
       "    </tr>\n",
       "    <tr>\n",
       "      <th>3</th>\n",
       "      <td>335982</td>\n",
       "      <td>2008</td>\n",
       "      <td>0.4</td>\n",
       "      <td>M Chinnaswamy Stadium</td>\n",
       "      <td>1</td>\n",
       "      <td>Kolkata Knight Riders</td>\n",
       "      <td>Royal Challengers Bangalore</td>\n",
       "      <td>BB McCullum</td>\n",
       "      <td>SC Ganguly</td>\n",
       "      <td>P Kumar</td>\n",
       "      <td>0</td>\n",
       "      <td>0</td>\n",
       "    </tr>\n",
       "    <tr>\n",
       "      <th>4</th>\n",
       "      <td>335982</td>\n",
       "      <td>2008</td>\n",
       "      <td>0.5</td>\n",
       "      <td>M Chinnaswamy Stadium</td>\n",
       "      <td>1</td>\n",
       "      <td>Kolkata Knight Riders</td>\n",
       "      <td>Royal Challengers Bangalore</td>\n",
       "      <td>BB McCullum</td>\n",
       "      <td>SC Ganguly</td>\n",
       "      <td>P Kumar</td>\n",
       "      <td>0</td>\n",
       "      <td>0</td>\n",
       "    </tr>\n",
       "  </tbody>\n",
       "</table>\n",
       "</div>"
      ],
      "text/plain": [
       "   match_id  start_date  ball                  venue  innings  \\\n",
       "0    335982        2008   0.1  M Chinnaswamy Stadium        1   \n",
       "1    335982        2008   0.2  M Chinnaswamy Stadium        1   \n",
       "2    335982        2008   0.3  M Chinnaswamy Stadium        1   \n",
       "3    335982        2008   0.4  M Chinnaswamy Stadium        1   \n",
       "4    335982        2008   0.5  M Chinnaswamy Stadium        1   \n",
       "\n",
       "            batting_team                 bowling_team      striker  \\\n",
       "0  Kolkata Knight Riders  Royal Challengers Bangalore   SC Ganguly   \n",
       "1  Kolkata Knight Riders  Royal Challengers Bangalore  BB McCullum   \n",
       "2  Kolkata Knight Riders  Royal Challengers Bangalore  BB McCullum   \n",
       "3  Kolkata Knight Riders  Royal Challengers Bangalore  BB McCullum   \n",
       "4  Kolkata Knight Riders  Royal Challengers Bangalore  BB McCullum   \n",
       "\n",
       "   non_striker   bowler  runs_off_bat  extras  \n",
       "0  BB McCullum  P Kumar             0       1  \n",
       "1   SC Ganguly  P Kumar             0       0  \n",
       "2   SC Ganguly  P Kumar             0       1  \n",
       "3   SC Ganguly  P Kumar             0       0  \n",
       "4   SC Ganguly  P Kumar             0       0  "
      ]
     },
     "execution_count": 4,
     "metadata": {},
     "output_type": "execute_result"
    }
   ],
   "source": [
    "features = [\"match_id\",\"start_date\" ,\"ball\" , \"venue\", \"innings\", \"batting_team\", \"bowling_team\",\n",
    "            \"striker\", \"non_striker\",\"bowler\", \"runs_off_bat\",\"extras\"]\n",
    "df = df[features]\n",
    "df.head()"
   ]
  },
  {
   "cell_type": "markdown",
   "metadata": {},
   "source": [
    "### Some Feature Engineering"
   ]
  },
  {
   "cell_type": "code",
   "execution_count": 5,
   "metadata": {},
   "outputs": [],
   "source": [
    "#Combining the runs off the bat and extras\n",
    "df[\"total_run\"] = df[\"runs_off_bat\"] + df[\"extras\"]\n",
    "df = df.drop(columns=['runs_off_bat','extras'])"
   ]
  },
  {
   "cell_type": "code",
   "execution_count": 6,
   "metadata": {},
   "outputs": [
    {
     "data": {
      "text/html": [
       "<div>\n",
       "<style scoped>\n",
       "    .dataframe tbody tr th:only-of-type {\n",
       "        vertical-align: middle;\n",
       "    }\n",
       "\n",
       "    .dataframe tbody tr th {\n",
       "        vertical-align: top;\n",
       "    }\n",
       "\n",
       "    .dataframe thead th {\n",
       "        text-align: right;\n",
       "    }\n",
       "</style>\n",
       "<table border=\"1\" class=\"dataframe\">\n",
       "  <thead>\n",
       "    <tr style=\"text-align: right;\">\n",
       "      <th></th>\n",
       "      <th>match_id</th>\n",
       "      <th>start_date</th>\n",
       "      <th>ball</th>\n",
       "      <th>venue</th>\n",
       "      <th>innings</th>\n",
       "      <th>batting_team</th>\n",
       "      <th>bowling_team</th>\n",
       "      <th>striker</th>\n",
       "      <th>non_striker</th>\n",
       "      <th>bowler</th>\n",
       "      <th>total_run</th>\n",
       "    </tr>\n",
       "  </thead>\n",
       "  <tbody>\n",
       "    <tr>\n",
       "      <th>0</th>\n",
       "      <td>335982</td>\n",
       "      <td>2008</td>\n",
       "      <td>0.1</td>\n",
       "      <td>M Chinnaswamy Stadium</td>\n",
       "      <td>1</td>\n",
       "      <td>Kolkata Knight Riders</td>\n",
       "      <td>Royal Challengers Bangalore</td>\n",
       "      <td>SC Ganguly</td>\n",
       "      <td>BB McCullum</td>\n",
       "      <td>P Kumar</td>\n",
       "      <td>1</td>\n",
       "    </tr>\n",
       "    <tr>\n",
       "      <th>1</th>\n",
       "      <td>335982</td>\n",
       "      <td>2008</td>\n",
       "      <td>0.2</td>\n",
       "      <td>M Chinnaswamy Stadium</td>\n",
       "      <td>1</td>\n",
       "      <td>Kolkata Knight Riders</td>\n",
       "      <td>Royal Challengers Bangalore</td>\n",
       "      <td>BB McCullum</td>\n",
       "      <td>SC Ganguly</td>\n",
       "      <td>P Kumar</td>\n",
       "      <td>0</td>\n",
       "    </tr>\n",
       "    <tr>\n",
       "      <th>2</th>\n",
       "      <td>335982</td>\n",
       "      <td>2008</td>\n",
       "      <td>0.3</td>\n",
       "      <td>M Chinnaswamy Stadium</td>\n",
       "      <td>1</td>\n",
       "      <td>Kolkata Knight Riders</td>\n",
       "      <td>Royal Challengers Bangalore</td>\n",
       "      <td>BB McCullum</td>\n",
       "      <td>SC Ganguly</td>\n",
       "      <td>P Kumar</td>\n",
       "      <td>1</td>\n",
       "    </tr>\n",
       "    <tr>\n",
       "      <th>3</th>\n",
       "      <td>335982</td>\n",
       "      <td>2008</td>\n",
       "      <td>0.4</td>\n",
       "      <td>M Chinnaswamy Stadium</td>\n",
       "      <td>1</td>\n",
       "      <td>Kolkata Knight Riders</td>\n",
       "      <td>Royal Challengers Bangalore</td>\n",
       "      <td>BB McCullum</td>\n",
       "      <td>SC Ganguly</td>\n",
       "      <td>P Kumar</td>\n",
       "      <td>0</td>\n",
       "    </tr>\n",
       "  </tbody>\n",
       "</table>\n",
       "</div>"
      ],
      "text/plain": [
       "   match_id  start_date  ball                  venue  innings  \\\n",
       "0    335982        2008   0.1  M Chinnaswamy Stadium        1   \n",
       "1    335982        2008   0.2  M Chinnaswamy Stadium        1   \n",
       "2    335982        2008   0.3  M Chinnaswamy Stadium        1   \n",
       "3    335982        2008   0.4  M Chinnaswamy Stadium        1   \n",
       "\n",
       "            batting_team                 bowling_team      striker  \\\n",
       "0  Kolkata Knight Riders  Royal Challengers Bangalore   SC Ganguly   \n",
       "1  Kolkata Knight Riders  Royal Challengers Bangalore  BB McCullum   \n",
       "2  Kolkata Knight Riders  Royal Challengers Bangalore  BB McCullum   \n",
       "3  Kolkata Knight Riders  Royal Challengers Bangalore  BB McCullum   \n",
       "\n",
       "   non_striker   bowler  total_run  \n",
       "0  BB McCullum  P Kumar          1  \n",
       "1   SC Ganguly  P Kumar          0  \n",
       "2   SC Ganguly  P Kumar          1  \n",
       "3   SC Ganguly  P Kumar          0  "
      ]
     },
     "execution_count": 6,
     "metadata": {},
     "output_type": "execute_result"
    }
   ],
   "source": [
    "df.head(4)"
   ]
  },
  {
   "cell_type": "markdown",
   "metadata": {},
   "source": [
    " ### Drop Teams which dont play now and Change the names of the Fews Teams\n",
    "> Teams to drop => [\"Deccan Chargers\", \"Kochi Tuskers Kerala\", \"Pune Warriors\",\"Rising Pune Supergiant\",\"Gujarat Lions\"]\n",
    "\n",
    "> Teams to change the name:\n",
    "> 1. Delhi Daredevils -> Delhi Capitals\n",
    "> 2. Kings XI Punjab -> Punjab Kings"
   ]
  },
  {
   "cell_type": "code",
   "execution_count": 7,
   "metadata": {},
   "outputs": [],
   "source": [
    "#Drop Teams\n",
    "for team in [\"Deccan Chargers\", \"Kochi Tuskers Kerala\", \"Pune Warriors\",\"Rising Pune Supergiant\",\"Rising Pune Supergiants\",\"Gujarat Lions\"]:\n",
    "    df = df[df[\"batting_team\"] != team]\n",
    "    df = df[df[\"bowling_team\"] != team] "
   ]
  },
  {
   "cell_type": "code",
   "execution_count": 8,
   "metadata": {},
   "outputs": [],
   "source": [
    "#Change the name of the teams\n",
    "df.loc[(df.batting_team == 'Delhi Daredevils'),'batting_team']='Delhi Capitals'\n",
    "df.loc[(df.bowling_team == 'Delhi Daredevils'),'bowling_team']='Delhi Capitals'\n",
    "\n",
    "df.loc[(df.batting_team == 'Kings XI Punjab'),'batting_team']='Punjab Kings'\n",
    "df.loc[(df.bowling_team == 'Kings XI Punjab'),'bowling_team']='Punjab Kings'\n"
   ]
  },
  {
   "cell_type": "code",
   "execution_count": 9,
   "metadata": {},
   "outputs": [
    {
     "data": {
      "text/plain": [
       "Mumbai Indians                 21278\n",
       "Kolkata Knight Riders          19886\n",
       "Delhi Capitals                 19766\n",
       "Punjab Kings                   19701\n",
       "Royal Challengers Bangalore    19621\n",
       "Chennai Super Kings            19381\n",
       "Rajasthan Royals               17136\n",
       "Sunrisers Hyderabad            13692\n",
       "Name: batting_team, dtype: int64"
      ]
     },
     "execution_count": 9,
     "metadata": {},
     "output_type": "execute_result"
    }
   ],
   "source": [
    "df[\"batting_team\"].value_counts()"
   ]
  },
  {
   "cell_type": "markdown",
   "metadata": {},
   "source": [
    "### Removing the Overs Greater than 6.0"
   ]
  },
  {
   "cell_type": "code",
   "execution_count": 10,
   "metadata": {},
   "outputs": [
    {
     "data": {
      "text/plain": [
       "(47466, 11)"
      ]
     },
     "execution_count": 10,
     "metadata": {},
     "output_type": "execute_result"
    }
   ],
   "source": [
    "df = df[df['ball'] <= 6.0]\n",
    "df.shape"
   ]
  },
  {
   "cell_type": "markdown",
   "metadata": {},
   "source": [
    "#### Repetative Names used for the stadiums\n",
    "1. MA Chidambaram Stadium, Chepauk & \"MA Chidambaram Stadium, Chepauk, Chennai\" --> \"MA Chidambaram Stadium\"  \n",
    "2. \"M.Chinnaswamy Stadium\" --> M Chinnaswamy Stadium  \n",
    "3. \"Wankhede Stadium, Mumbai\" --> Wankhede Stadium  \n",
    "4. Sardar Patel Stadium, Motera --> Narendra Modi Stadium\n",
    "5. Feroz Shah Kotla --> \"Arun Jaitley Stadium'"
   ]
  },
  {
   "cell_type": "code",
   "execution_count": 11,
   "metadata": {},
   "outputs": [
    {
     "data": {
      "text/plain": [
       "Eden Gardens                                            5081\n",
       "Wankhede Stadium                                        4661\n",
       "M Chinnaswamy Stadium                                   3941\n",
       "Feroz Shah Kotla                                        3572\n",
       "Sawai Mansingh Stadium                                  3074\n",
       "MA Chidambaram Stadium, Chepauk                         3003\n",
       "Dubai International Cricket Stadium                     2516\n",
       "Punjab Cricket Association Stadium, Mohali              2241\n",
       "Sheikh Zayed Stadium                                    2185\n",
       "Rajiv Gandhi International Stadium, Uppal               1885\n",
       "Sharjah Cricket Stadium                                 1343\n",
       "Rajiv Gandhi International Stadium                      1120\n",
       "M.Chinnaswamy Stadium                                   1096\n",
       "Arun Jaitley Stadium                                    1039\n",
       "Kingsmead                                                899\n",
       "Sardar Patel Stadium, Motera                             825\n",
       "Brabourne Stadium                                        765\n",
       "Maharashtra Cricket Association Stadium                  740\n",
       "Punjab Cricket Association IS Bindra Stadium             739\n",
       "MA Chidambaram Stadium                                   664\n",
       "SuperSport Park                                          607\n",
       "Dr. Y.S. Rajasekhara Reddy ACA-VDCA Cricket Stadium      592\n",
       "Punjab Cricket Association IS Bindra Stadium, Mohali     589\n",
       "Himachal Pradesh Cricket Association Stadium             528\n",
       "St George's Park                                         461\n",
       "Holkar Cricket Stadium                                   442\n",
       "JSCA International Stadium Complex                       439\n",
       "Newlands                                                 390\n",
       "New Wanderers Stadium                                    375\n",
       "Shaheed Veer Narayan Singh International Stadium         372\n",
       "Dr DY Patil Sports Academy                               372\n",
       "Barabati Stadium                                         228\n",
       "OUTsurance Oval                                          157\n",
       "Buffalo Park                                             156\n",
       "MA Chidambaram Stadium, Chepauk, Chennai                 147\n",
       "Subrata Roy Sahara Stadium                                75\n",
       "De Beers Diamond Oval                                     74\n",
       "Wankhede Stadium, Mumbai                                  73\n",
       "Name: venue, dtype: int64"
      ]
     },
     "execution_count": 11,
     "metadata": {},
     "output_type": "execute_result"
    }
   ],
   "source": [
    "# Previous Venue Names\n",
    "df.venue.value_counts()"
   ]
  },
  {
   "cell_type": "code",
   "execution_count": 12,
   "metadata": {},
   "outputs": [],
   "source": [
    "#Changing Venue Names\n",
    "df.loc[(df.venue == 'MA Chidambaram Stadium, Chepauk'),'venue']='MA Chidambaram Stadium'\n",
    "df.loc[(df.venue == 'MA Chidambaram Stadium, Chepauk, Chennai'),'venue']='MA Chidambaram Stadium'\n",
    "\n",
    "df.loc[(df.venue == 'M.Chinnaswamy Stadium'),'venue']='M Chinnaswamy Stadium'\n",
    "\n",
    "df.loc[(df.venue == 'Wankhede Stadium, Mumbai'),'venue']='Wankhede Stadium'\n",
    "\n",
    "df.loc[(df.venue == 'Sardar Patel Stadium, Motera'),'venue']='Narendra Modi Stadium'\n",
    "\n",
    "df.loc[(df.venue == 'Feroz Shah Kotla'),'venue']='Arun Jaitley Stadium'"
   ]
  },
  {
   "cell_type": "code",
   "execution_count": 13,
   "metadata": {},
   "outputs": [
    {
     "data": {
      "text/plain": [
       "(47466, 11)"
      ]
     },
     "execution_count": 13,
     "metadata": {},
     "output_type": "execute_result"
    }
   ],
   "source": [
    "#did not drop any row just changes the duplicate names\n",
    "df.shape"
   ]
  },
  {
   "cell_type": "markdown",
   "metadata": {},
   "source": [
    "### Making Groups of the Data"
   ]
  },
  {
   "cell_type": "code",
   "execution_count": 16,
   "metadata": {},
   "outputs": [
    {
     "data": {
      "text/html": [
       "<div>\n",
       "<style scoped>\n",
       "    .dataframe tbody tr th:only-of-type {\n",
       "        vertical-align: middle;\n",
       "    }\n",
       "\n",
       "    .dataframe tbody tr th {\n",
       "        vertical-align: top;\n",
       "    }\n",
       "\n",
       "    .dataframe thead th {\n",
       "        text-align: right;\n",
       "    }\n",
       "</style>\n",
       "<table border=\"1\" class=\"dataframe\">\n",
       "  <thead>\n",
       "    <tr style=\"text-align: right;\">\n",
       "      <th></th>\n",
       "      <th>match_id</th>\n",
       "      <th>start_date</th>\n",
       "      <th>ball</th>\n",
       "      <th>venue</th>\n",
       "      <th>innings</th>\n",
       "      <th>bowling_team</th>\n",
       "      <th>striker</th>\n",
       "      <th>non_striker</th>\n",
       "      <th>bowler</th>\n",
       "      <th>total_run</th>\n",
       "    </tr>\n",
       "    <tr>\n",
       "      <th>batting_team</th>\n",
       "      <th></th>\n",
       "      <th></th>\n",
       "      <th></th>\n",
       "      <th></th>\n",
       "      <th></th>\n",
       "      <th></th>\n",
       "      <th></th>\n",
       "      <th></th>\n",
       "      <th></th>\n",
       "      <th></th>\n",
       "    </tr>\n",
       "  </thead>\n",
       "  <tbody>\n",
       "    <tr>\n",
       "      <th>Chennai Super Kings</th>\n",
       "      <td>335983</td>\n",
       "      <td>2008</td>\n",
       "      <td>0.1</td>\n",
       "      <td>Punjab Cricket Association Stadium, Mohali</td>\n",
       "      <td>1</td>\n",
       "      <td>Punjab Kings</td>\n",
       "      <td>PA Patel</td>\n",
       "      <td>ML Hayden</td>\n",
       "      <td>B Lee</td>\n",
       "      <td>0</td>\n",
       "    </tr>\n",
       "    <tr>\n",
       "      <th>Delhi Capitals</th>\n",
       "      <td>335984</td>\n",
       "      <td>2008</td>\n",
       "      <td>0.1</td>\n",
       "      <td>Arun Jaitley Stadium</td>\n",
       "      <td>2</td>\n",
       "      <td>Rajasthan Royals</td>\n",
       "      <td>G Gambhir</td>\n",
       "      <td>V Sehwag</td>\n",
       "      <td>MM Patel</td>\n",
       "      <td>0</td>\n",
       "    </tr>\n",
       "    <tr>\n",
       "      <th>Kolkata Knight Riders</th>\n",
       "      <td>335982</td>\n",
       "      <td>2008</td>\n",
       "      <td>0.1</td>\n",
       "      <td>M Chinnaswamy Stadium</td>\n",
       "      <td>1</td>\n",
       "      <td>Royal Challengers Bangalore</td>\n",
       "      <td>SC Ganguly</td>\n",
       "      <td>BB McCullum</td>\n",
       "      <td>P Kumar</td>\n",
       "      <td>1</td>\n",
       "    </tr>\n",
       "    <tr>\n",
       "      <th>Mumbai Indians</th>\n",
       "      <td>335985</td>\n",
       "      <td>2008</td>\n",
       "      <td>0.1</td>\n",
       "      <td>Wankhede Stadium</td>\n",
       "      <td>1</td>\n",
       "      <td>Royal Challengers Bangalore</td>\n",
       "      <td>L Ronchi</td>\n",
       "      <td>ST Jayasuriya</td>\n",
       "      <td>P Kumar</td>\n",
       "      <td>0</td>\n",
       "    </tr>\n",
       "    <tr>\n",
       "      <th>Punjab Kings</th>\n",
       "      <td>335983</td>\n",
       "      <td>2008</td>\n",
       "      <td>0.1</td>\n",
       "      <td>Punjab Cricket Association Stadium, Mohali</td>\n",
       "      <td>2</td>\n",
       "      <td>Chennai Super Kings</td>\n",
       "      <td>K Goel</td>\n",
       "      <td>JR Hopes</td>\n",
       "      <td>JDP Oram</td>\n",
       "      <td>4</td>\n",
       "    </tr>\n",
       "    <tr>\n",
       "      <th>Rajasthan Royals</th>\n",
       "      <td>335984</td>\n",
       "      <td>2008</td>\n",
       "      <td>0.1</td>\n",
       "      <td>Arun Jaitley Stadium</td>\n",
       "      <td>1</td>\n",
       "      <td>Delhi Capitals</td>\n",
       "      <td>T Kohli</td>\n",
       "      <td>YK Pathan</td>\n",
       "      <td>GD McGrath</td>\n",
       "      <td>0</td>\n",
       "    </tr>\n",
       "    <tr>\n",
       "      <th>Royal Challengers Bangalore</th>\n",
       "      <td>335982</td>\n",
       "      <td>2008</td>\n",
       "      <td>0.1</td>\n",
       "      <td>M Chinnaswamy Stadium</td>\n",
       "      <td>2</td>\n",
       "      <td>Kolkata Knight Riders</td>\n",
       "      <td>R Dravid</td>\n",
       "      <td>W Jaffer</td>\n",
       "      <td>AB Dinda</td>\n",
       "      <td>1</td>\n",
       "    </tr>\n",
       "    <tr>\n",
       "      <th>Sunrisers Hyderabad</th>\n",
       "      <td>598004</td>\n",
       "      <td>2013</td>\n",
       "      <td>0.1</td>\n",
       "      <td>Rajiv Gandhi International Stadium, Uppal</td>\n",
       "      <td>2</td>\n",
       "      <td>Royal Challengers Bangalore</td>\n",
       "      <td>PA Reddy</td>\n",
       "      <td>PA Patel</td>\n",
       "      <td>JD Unadkat</td>\n",
       "      <td>1</td>\n",
       "    </tr>\n",
       "  </tbody>\n",
       "</table>\n",
       "</div>"
      ],
      "text/plain": [
       "                             match_id  start_date  ball  \\\n",
       "batting_team                                              \n",
       "Chennai Super Kings            335983        2008   0.1   \n",
       "Delhi Capitals                 335984        2008   0.1   \n",
       "Kolkata Knight Riders          335982        2008   0.1   \n",
       "Mumbai Indians                 335985        2008   0.1   \n",
       "Punjab Kings                   335983        2008   0.1   \n",
       "Rajasthan Royals               335984        2008   0.1   \n",
       "Royal Challengers Bangalore    335982        2008   0.1   \n",
       "Sunrisers Hyderabad            598004        2013   0.1   \n",
       "\n",
       "                                                                  venue  \\\n",
       "batting_team                                                              \n",
       "Chennai Super Kings          Punjab Cricket Association Stadium, Mohali   \n",
       "Delhi Capitals                                     Arun Jaitley Stadium   \n",
       "Kolkata Knight Riders                             M Chinnaswamy Stadium   \n",
       "Mumbai Indians                                         Wankhede Stadium   \n",
       "Punjab Kings                 Punjab Cricket Association Stadium, Mohali   \n",
       "Rajasthan Royals                                   Arun Jaitley Stadium   \n",
       "Royal Challengers Bangalore                       M Chinnaswamy Stadium   \n",
       "Sunrisers Hyderabad           Rajiv Gandhi International Stadium, Uppal   \n",
       "\n",
       "                             innings                 bowling_team     striker  \\\n",
       "batting_team                                                                    \n",
       "Chennai Super Kings                1                 Punjab Kings    PA Patel   \n",
       "Delhi Capitals                     2             Rajasthan Royals   G Gambhir   \n",
       "Kolkata Knight Riders              1  Royal Challengers Bangalore  SC Ganguly   \n",
       "Mumbai Indians                     1  Royal Challengers Bangalore    L Ronchi   \n",
       "Punjab Kings                       2          Chennai Super Kings      K Goel   \n",
       "Rajasthan Royals                   1               Delhi Capitals     T Kohli   \n",
       "Royal Challengers Bangalore        2        Kolkata Knight Riders    R Dravid   \n",
       "Sunrisers Hyderabad                2  Royal Challengers Bangalore    PA Reddy   \n",
       "\n",
       "                               non_striker      bowler  total_run  \n",
       "batting_team                                                       \n",
       "Chennai Super Kings              ML Hayden       B Lee          0  \n",
       "Delhi Capitals                    V Sehwag    MM Patel          0  \n",
       "Kolkata Knight Riders          BB McCullum     P Kumar          1  \n",
       "Mumbai Indians               ST Jayasuriya     P Kumar          0  \n",
       "Punjab Kings                      JR Hopes    JDP Oram          4  \n",
       "Rajasthan Royals                 YK Pathan  GD McGrath          0  \n",
       "Royal Challengers Bangalore       W Jaffer    AB Dinda          1  \n",
       "Sunrisers Hyderabad               PA Patel  JD Unadkat          1  "
      ]
     },
     "execution_count": 16,
     "metadata": {},
     "output_type": "execute_result"
    }
   ],
   "source": [
    "grouped_data = df.groupby([\"batting_team\"])\n",
    "grouped_data.first()"
   ]
  },
  {
   "cell_type": "markdown",
   "metadata": {},
   "source": [
    "> #### Aanalysing the Grouped Data "
   ]
  },
  {
   "cell_type": "code",
   "execution_count": 17,
   "metadata": {},
   "outputs": [
    {
     "data": {
      "text/html": [
       "<div>\n",
       "<style scoped>\n",
       "    .dataframe tbody tr th:only-of-type {\n",
       "        vertical-align: middle;\n",
       "    }\n",
       "\n",
       "    .dataframe tbody tr th {\n",
       "        vertical-align: top;\n",
       "    }\n",
       "\n",
       "    .dataframe thead th {\n",
       "        text-align: right;\n",
       "    }\n",
       "</style>\n",
       "<table border=\"1\" class=\"dataframe\">\n",
       "  <thead>\n",
       "    <tr style=\"text-align: right;\">\n",
       "      <th></th>\n",
       "      <th>match_id</th>\n",
       "      <th>start_date</th>\n",
       "      <th>ball</th>\n",
       "      <th>venue</th>\n",
       "      <th>innings</th>\n",
       "      <th>batting_team</th>\n",
       "      <th>bowling_team</th>\n",
       "      <th>striker</th>\n",
       "      <th>non_striker</th>\n",
       "      <th>bowler</th>\n",
       "      <th>total_run</th>\n",
       "    </tr>\n",
       "  </thead>\n",
       "  <tbody>\n",
       "    <tr>\n",
       "      <th>225</th>\n",
       "      <td>335983</td>\n",
       "      <td>2008</td>\n",
       "      <td>0.1</td>\n",
       "      <td>Punjab Cricket Association Stadium, Mohali</td>\n",
       "      <td>1</td>\n",
       "      <td>Chennai Super Kings</td>\n",
       "      <td>Punjab Kings</td>\n",
       "      <td>PA Patel</td>\n",
       "      <td>ML Hayden</td>\n",
       "      <td>B Lee</td>\n",
       "      <td>0</td>\n",
       "    </tr>\n",
       "    <tr>\n",
       "      <th>226</th>\n",
       "      <td>335983</td>\n",
       "      <td>2008</td>\n",
       "      <td>0.2</td>\n",
       "      <td>Punjab Cricket Association Stadium, Mohali</td>\n",
       "      <td>1</td>\n",
       "      <td>Chennai Super Kings</td>\n",
       "      <td>Punjab Kings</td>\n",
       "      <td>PA Patel</td>\n",
       "      <td>ML Hayden</td>\n",
       "      <td>B Lee</td>\n",
       "      <td>0</td>\n",
       "    </tr>\n",
       "    <tr>\n",
       "      <th>227</th>\n",
       "      <td>335983</td>\n",
       "      <td>2008</td>\n",
       "      <td>0.3</td>\n",
       "      <td>Punjab Cricket Association Stadium, Mohali</td>\n",
       "      <td>1</td>\n",
       "      <td>Chennai Super Kings</td>\n",
       "      <td>Punjab Kings</td>\n",
       "      <td>PA Patel</td>\n",
       "      <td>ML Hayden</td>\n",
       "      <td>B Lee</td>\n",
       "      <td>1</td>\n",
       "    </tr>\n",
       "    <tr>\n",
       "      <th>228</th>\n",
       "      <td>335983</td>\n",
       "      <td>2008</td>\n",
       "      <td>0.4</td>\n",
       "      <td>Punjab Cricket Association Stadium, Mohali</td>\n",
       "      <td>1</td>\n",
       "      <td>Chennai Super Kings</td>\n",
       "      <td>Punjab Kings</td>\n",
       "      <td>ML Hayden</td>\n",
       "      <td>PA Patel</td>\n",
       "      <td>B Lee</td>\n",
       "      <td>0</td>\n",
       "    </tr>\n",
       "    <tr>\n",
       "      <th>229</th>\n",
       "      <td>335983</td>\n",
       "      <td>2008</td>\n",
       "      <td>0.5</td>\n",
       "      <td>Punjab Cricket Association Stadium, Mohali</td>\n",
       "      <td>1</td>\n",
       "      <td>Chennai Super Kings</td>\n",
       "      <td>Punjab Kings</td>\n",
       "      <td>ML Hayden</td>\n",
       "      <td>PA Patel</td>\n",
       "      <td>B Lee</td>\n",
       "      <td>4</td>\n",
       "    </tr>\n",
       "  </tbody>\n",
       "</table>\n",
       "</div>"
      ],
      "text/plain": [
       "     match_id  start_date  ball                                       venue  \\\n",
       "225    335983        2008   0.1  Punjab Cricket Association Stadium, Mohali   \n",
       "226    335983        2008   0.2  Punjab Cricket Association Stadium, Mohali   \n",
       "227    335983        2008   0.3  Punjab Cricket Association Stadium, Mohali   \n",
       "228    335983        2008   0.4  Punjab Cricket Association Stadium, Mohali   \n",
       "229    335983        2008   0.5  Punjab Cricket Association Stadium, Mohali   \n",
       "\n",
       "     innings         batting_team  bowling_team    striker non_striker bowler  \\\n",
       "225        1  Chennai Super Kings  Punjab Kings   PA Patel   ML Hayden  B Lee   \n",
       "226        1  Chennai Super Kings  Punjab Kings   PA Patel   ML Hayden  B Lee   \n",
       "227        1  Chennai Super Kings  Punjab Kings   PA Patel   ML Hayden  B Lee   \n",
       "228        1  Chennai Super Kings  Punjab Kings  ML Hayden    PA Patel  B Lee   \n",
       "229        1  Chennai Super Kings  Punjab Kings  ML Hayden    PA Patel  B Lee   \n",
       "\n",
       "     total_run  \n",
       "225          0  \n",
       "226          0  \n",
       "227          1  \n",
       "228          0  \n",
       "229          4  "
      ]
     },
     "execution_count": 17,
     "metadata": {},
     "output_type": "execute_result"
    }
   ],
   "source": [
    "csk = grouped_data.get_group(\"Chennai Super Kings\")\n",
    "csk.head()"
   ]
  },
  {
   "cell_type": "markdown",
   "metadata": {},
   "source": [
    ">> This Displays all the matches of CSK as batting Team"
   ]
  },
  {
   "cell_type": "code",
   "execution_count": 18,
   "metadata": {},
   "outputs": [
    {
     "name": "stdout",
     "output_type": "stream",
     "text": [
      "The innings of match with match id 33598 is:  1\n",
      "The total powerplay score of match with match id 33598 is:  53\n",
      "The batsmen played in match with match id 33598 is:  ['PA Patel' 'ML Hayden' 'MEK Hussey']\n"
     ]
    }
   ],
   "source": [
    "#Code to get innings of any match id \n",
    "print(\"The innings of match with match id 33598 is: \",csk[csk[\"match_id\"] == 335983]['innings'].unique()[0])\n",
    "\n",
    "#Code for total powerplay socre by any team\"\n",
    "print(\"The total powerplay score of match with match id 33598 is: \",csk[csk[\"match_id\"] == 335983]['total_run'].sum())\n",
    "\n",
    "##Number of Batsmen that played in Powerplay\n",
    "print(\"The batsmen played in match with match id 33598 is: \",csk[csk[\"match_id\"] == 335983]['striker'].unique())"
   ]
  },
  {
   "cell_type": "markdown",
   "metadata": {},
   "source": [
    "### Making the Custom DataSet in the Format we require to make the Predictions.\n",
    "> Here, we need to predict the final score of powerplay given the inputs and thus we will make a dataset with final powerplay score in it as the target variables given all the inputs as feature variables"
   ]
  },
  {
   "cell_type": "code",
   "execution_count": 19,
   "metadata": {},
   "outputs": [],
   "source": [
    "# Making the List of all the teams which played in ILP 2021\n",
    "teams = ['Kolkata Knight Riders', 'Royal Challengers Bangalore',\n",
    "       'Chennai Super Kings', 'Punjab Kings', 'Rajasthan Royals',\n",
    "       'Delhi Capitals', 'Mumbai Indians', 'Sunrisers Hyderabad']"
   ]
  },
  {
   "cell_type": "code",
   "execution_count": 22,
   "metadata": {},
   "outputs": [
    {
     "data": {
      "text/html": [
       "<div>\n",
       "<style scoped>\n",
       "    .dataframe tbody tr th:only-of-type {\n",
       "        vertical-align: middle;\n",
       "    }\n",
       "\n",
       "    .dataframe tbody tr th {\n",
       "        vertical-align: top;\n",
       "    }\n",
       "\n",
       "    .dataframe thead th {\n",
       "        text-align: right;\n",
       "    }\n",
       "</style>\n",
       "<table border=\"1\" class=\"dataframe\">\n",
       "  <thead>\n",
       "    <tr style=\"text-align: right;\">\n",
       "      <th></th>\n",
       "      <th>match_id</th>\n",
       "      <th>start_date</th>\n",
       "      <th>venue</th>\n",
       "      <th>innings</th>\n",
       "      <th>batting_team</th>\n",
       "      <th>bowling_team</th>\n",
       "      <th>score</th>\n",
       "      <th>no_of_batsmen</th>\n",
       "    </tr>\n",
       "  </thead>\n",
       "  <tbody>\n",
       "    <tr>\n",
       "      <th>0</th>\n",
       "      <td>335982</td>\n",
       "      <td>2008</td>\n",
       "      <td>M Chinnaswamy Stadium</td>\n",
       "      <td>1</td>\n",
       "      <td>Kolkata Knight Riders</td>\n",
       "      <td>Royal Challengers Bangalore</td>\n",
       "      <td>61</td>\n",
       "      <td>3</td>\n",
       "    </tr>\n",
       "    <tr>\n",
       "      <th>1</th>\n",
       "      <td>335993</td>\n",
       "      <td>2008</td>\n",
       "      <td>MA Chidambaram Stadium</td>\n",
       "      <td>1</td>\n",
       "      <td>Kolkata Knight Riders</td>\n",
       "      <td>Chennai Super Kings</td>\n",
       "      <td>61</td>\n",
       "      <td>5</td>\n",
       "    </tr>\n",
       "    <tr>\n",
       "      <th>2</th>\n",
       "      <td>335997</td>\n",
       "      <td>2008</td>\n",
       "      <td>Eden Gardens</td>\n",
       "      <td>1</td>\n",
       "      <td>Kolkata Knight Riders</td>\n",
       "      <td>Mumbai Indians</td>\n",
       "      <td>40</td>\n",
       "      <td>5</td>\n",
       "    </tr>\n",
       "    <tr>\n",
       "      <th>3</th>\n",
       "      <td>336000</td>\n",
       "      <td>2008</td>\n",
       "      <td>Sawai Mansingh Stadium</td>\n",
       "      <td>2</td>\n",
       "      <td>Kolkata Knight Riders</td>\n",
       "      <td>Rajasthan Royals</td>\n",
       "      <td>51</td>\n",
       "      <td>4</td>\n",
       "    </tr>\n",
       "    <tr>\n",
       "      <th>4</th>\n",
       "      <td>336003</td>\n",
       "      <td>2008</td>\n",
       "      <td>Punjab Cricket Association Stadium, Mohali</td>\n",
       "      <td>2</td>\n",
       "      <td>Kolkata Knight Riders</td>\n",
       "      <td>Punjab Kings</td>\n",
       "      <td>31</td>\n",
       "      <td>6</td>\n",
       "    </tr>\n",
       "  </tbody>\n",
       "</table>\n",
       "</div>"
      ],
      "text/plain": [
       "  match_id start_date                                       venue innings  \\\n",
       "0   335982       2008                       M Chinnaswamy Stadium       1   \n",
       "1   335993       2008                      MA Chidambaram Stadium       1   \n",
       "2   335997       2008                                Eden Gardens       1   \n",
       "3   336000       2008                      Sawai Mansingh Stadium       2   \n",
       "4   336003       2008  Punjab Cricket Association Stadium, Mohali       2   \n",
       "\n",
       "            batting_team                 bowling_team score no_of_batsmen  \n",
       "0  Kolkata Knight Riders  Royal Challengers Bangalore    61             3  \n",
       "1  Kolkata Knight Riders          Chennai Super Kings    61             5  \n",
       "2  Kolkata Knight Riders               Mumbai Indians    40             5  \n",
       "3  Kolkata Knight Riders             Rajasthan Royals    51             4  \n",
       "4  Kolkata Knight Riders                 Punjab Kings    31             6  "
      ]
     },
     "execution_count": 22,
     "metadata": {},
     "output_type": "execute_result"
    }
   ],
   "source": [
    "final_data = pd.DataFrame(columns=[\"match_id\",\"start_date\",\"venue\",\"innings\",\"batting_team\",\n",
    "                                   \"bowling_team\",\"score\", \"no_of_batsmen\"])\n",
    "\n",
    "i = 0\n",
    "for team in teams:\n",
    "    t = grouped_data.get_group(team)\n",
    "    match_id = np.array(t.match_id.unique())\n",
    "    for ID in match_id:\n",
    "        score = t[t[\"match_id\"] == ID]['total_run'].sum()\n",
    "        bowling_team = t[t[\"match_id\"] == ID]['bowling_team'].unique()[0]\n",
    "        batting_team = team\n",
    "        innings = t[t[\"match_id\"] == ID]['innings'].unique()[0]\n",
    "        venue = t[t[\"match_id\"] == ID]['venue'].unique()[0]\n",
    "        start_date = t[t[\"match_id\"] == ID]['start_date'].unique()[0]\n",
    "        no_of_batsmen = len(t[t[\"match_id\"] == ID]['striker'].unique())\n",
    "        \n",
    "        final_data.loc[i,\"match_id\"] = ID\n",
    "        final_data.loc[i,\"start_date\"] = start_date\n",
    "        final_data.loc[i,\"venue\"] = venue\n",
    "        final_data.loc[i,\"innings\"] = innings\n",
    "        final_data.loc[i,\"batting_team\"] = batting_team\n",
    "        final_data.loc[i,\"bowling_team\"] = bowling_team\n",
    "        final_data.loc[i,\"no_of_batsmen\"] = no_of_batsmen\n",
    "        final_data.loc[i,\"score\"] = score\n",
    "        i = i+1\n",
    "        \n",
    "final_data.head()"
   ]
  },
  {
   "cell_type": "markdown",
   "metadata": {},
   "source": [
    "#### Analysing the final dataset "
   ]
  },
  {
   "cell_type": "code",
   "execution_count": 25,
   "metadata": {},
   "outputs": [
    {
     "name": "stdout",
     "output_type": "stream",
     "text": [
      "The datatype of no_of_batsmen is:  int32\n",
      "The datatype of score is:  int32\n",
      "The datatype of innings is:  int32\n"
     ]
    }
   ],
   "source": [
    "# Managing Few Datatypes\n",
    "final_data['score'] = final_data['score'].astype('int')\n",
    "final_data['innings'] = final_data['innings'].astype('int')\n",
    "final_data['no_of_batsmen'] = final_data['no_of_batsmen'].astype('int')\n",
    "print(\"The datatype of no_of_batsmen is: \", final_data['no_of_batsmen'].dtype)\n",
    "print(\"The datatype of score is: \", final_data['score'].dtype)\n",
    "print(\"The datatype of innings is: \", final_data['innings'].dtype)"
   ]
  },
  {
   "cell_type": "code",
   "execution_count": 26,
   "metadata": {},
   "outputs": [
    {
     "data": {
      "text/html": [
       "<div>\n",
       "<style scoped>\n",
       "    .dataframe tbody tr th:only-of-type {\n",
       "        vertical-align: middle;\n",
       "    }\n",
       "\n",
       "    .dataframe tbody tr th {\n",
       "        vertical-align: top;\n",
       "    }\n",
       "\n",
       "    .dataframe thead th {\n",
       "        text-align: right;\n",
       "    }\n",
       "</style>\n",
       "<table border=\"1\" class=\"dataframe\">\n",
       "  <thead>\n",
       "    <tr style=\"text-align: right;\">\n",
       "      <th></th>\n",
       "      <th>match_id</th>\n",
       "      <th>start_date</th>\n",
       "      <th>venue</th>\n",
       "      <th>innings</th>\n",
       "      <th>batting_team</th>\n",
       "      <th>bowling_team</th>\n",
       "      <th>score</th>\n",
       "      <th>no_of_batsmen</th>\n",
       "    </tr>\n",
       "  </thead>\n",
       "  <tbody>\n",
       "    <tr>\n",
       "      <th>0</th>\n",
       "      <td>335982</td>\n",
       "      <td>2008</td>\n",
       "      <td>M Chinnaswamy Stadium</td>\n",
       "      <td>1</td>\n",
       "      <td>Kolkata Knight Riders</td>\n",
       "      <td>Royal Challengers Bangalore</td>\n",
       "      <td>61</td>\n",
       "      <td>3</td>\n",
       "    </tr>\n",
       "    <tr>\n",
       "      <th>169</th>\n",
       "      <td>335982</td>\n",
       "      <td>2008</td>\n",
       "      <td>M Chinnaswamy Stadium</td>\n",
       "      <td>2</td>\n",
       "      <td>Royal Challengers Bangalore</td>\n",
       "      <td>Kolkata Knight Riders</td>\n",
       "      <td>26</td>\n",
       "      <td>6</td>\n",
       "    </tr>\n",
       "  </tbody>\n",
       "</table>\n",
       "</div>"
      ],
      "text/plain": [
       "    match_id start_date                  venue  innings  \\\n",
       "0     335982       2008  M Chinnaswamy Stadium        1   \n",
       "169   335982       2008  M Chinnaswamy Stadium        2   \n",
       "\n",
       "                    batting_team                 bowling_team  score  \\\n",
       "0          Kolkata Knight Riders  Royal Challengers Bangalore     61   \n",
       "169  Royal Challengers Bangalore        Kolkata Knight Riders     26   \n",
       "\n",
       "     no_of_batsmen  \n",
       "0                3  \n",
       "169              6  "
      ]
     },
     "execution_count": 26,
     "metadata": {},
     "output_type": "execute_result"
    }
   ],
   "source": [
    "#Score of both the teams in one match\n",
    "final_data[final_data[\"match_id\"] == 335982] "
   ]
  },
  {
   "cell_type": "code",
   "execution_count": 27,
   "metadata": {},
   "outputs": [
    {
     "data": {
      "text/plain": [
       "45.992592592592594"
      ]
     },
     "execution_count": 27,
     "metadata": {},
     "output_type": "execute_result"
    }
   ],
   "source": [
    "# Average Power Play score by any team\n",
    "final_data[final_data.venue == 'M Chinnaswamy Stadium'][\"score\"].mean()"
   ]
  },
  {
   "cell_type": "markdown",
   "metadata": {},
   "source": [
    "### Encoding the Categorical Values in dataset"
   ]
  },
  {
   "cell_type": "markdown",
   "metadata": {},
   "source": [
    "#### Deciding the Venue Priority for Ordinal Encoding"
   ]
  },
  {
   "cell_type": "code",
   "execution_count": 28,
   "metadata": {},
   "outputs": [
    {
     "name": "stdout",
     "output_type": "stream",
     "text": [
      "[('Buffalo Park', 33.0), ('OUTsurance Oval', 33.5), ('De Beers Diamond Oval', 35.5), ('Shaheed Veer Narayan Singh International Stadium', 38.0), ('Himachal Pradesh Cricket Association Stadium', 38.5), ('JSCA International Stadium Complex', 39.0), ('Dr. Y.S. Rajasekhara Reddy ACA-VDCA Cricket Stadium', 42.1875), ('Dr DY Patil Sports Academy', 42.3), ('Kingsmead', 43.166666666666664), ('New Wanderers Stadium', 43.7), ('SuperSport Park', 43.75), ('Sheikh Zayed Stadium', 44.13793103448276), ('Newlands', 44.3), ('Sawai Mansingh Stadium', 44.75609756097561), ('Barabati Stadium', 45.0), ('Maharashtra Cricket Association Stadium', 45.45), ('Dubai International Cricket Stadium', 45.60606060606061), ('M Chinnaswamy Stadium', 45.992592592592594), ('Eden Gardens', 45.99264705882353), ('Rajiv Gandhi International Stadium, Uppal', 46.12), (\"St George's Park\", 46.5), ('MA Chidambaram Stadium', 46.78431372549019), ('Wankhede Stadium', 46.88095238095238), ('Sharjah Cricket Stadium', 47.02777777777778), ('Narendra Modi Stadium', 47.22727272727273), ('Punjab Cricket Association Stadium, Mohali', 47.43333333333333), ('Arun Jaitley Stadium', 47.846774193548384), ('Subrata Roy Sahara Stadium', 48.5), ('Punjab Cricket Association IS Bindra Stadium, Mohali', 49.0625), ('Rajiv Gandhi International Stadium', 50.56666666666667), ('Holkar Cricket Stadium', 50.833333333333336), ('Punjab Cricket Association IS Bindra Stadium', 51.6), ('Brabourne Stadium', 52.4)]\n"
     ]
    },
    {
     "data": {
      "text/plain": [
       "{'Buffalo Park': 1,\n",
       " 'OUTsurance Oval': 2,\n",
       " 'De Beers Diamond Oval': 3,\n",
       " 'Shaheed Veer Narayan Singh International Stadium': 4,\n",
       " 'Himachal Pradesh Cricket Association Stadium': 5,\n",
       " 'JSCA International Stadium Complex': 6,\n",
       " 'Dr. Y.S. Rajasekhara Reddy ACA-VDCA Cricket Stadium': 7,\n",
       " 'Dr DY Patil Sports Academy': 8,\n",
       " 'Kingsmead': 9,\n",
       " 'New Wanderers Stadium': 10,\n",
       " 'SuperSport Park': 11,\n",
       " 'Sheikh Zayed Stadium': 12,\n",
       " 'Newlands': 13,\n",
       " 'Sawai Mansingh Stadium': 14,\n",
       " 'Barabati Stadium': 15,\n",
       " 'Maharashtra Cricket Association Stadium': 16,\n",
       " 'Dubai International Cricket Stadium': 17,\n",
       " 'M Chinnaswamy Stadium': 18,\n",
       " 'Eden Gardens': 19,\n",
       " 'Rajiv Gandhi International Stadium, Uppal': 20,\n",
       " \"St George's Park\": 21,\n",
       " 'MA Chidambaram Stadium': 22,\n",
       " 'Wankhede Stadium': 23,\n",
       " 'Sharjah Cricket Stadium': 24,\n",
       " 'Narendra Modi Stadium': 25,\n",
       " 'Punjab Cricket Association Stadium, Mohali': 26,\n",
       " 'Arun Jaitley Stadium': 27,\n",
       " 'Subrata Roy Sahara Stadium': 28,\n",
       " 'Punjab Cricket Association IS Bindra Stadium, Mohali': 29,\n",
       " 'Rajiv Gandhi International Stadium': 30,\n",
       " 'Holkar Cricket Stadium': 31,\n",
       " 'Punjab Cricket Association IS Bindra Stadium': 32,\n",
       " 'Brabourne Stadium': 33}"
      ]
     },
     "execution_count": 28,
     "metadata": {},
     "output_type": "execute_result"
    }
   ],
   "source": [
    "avg_score_venue = {}\n",
    "for ven in  final_data.venue.unique():\n",
    "    avg_score = final_data[final_data.venue == ven][\"score\"].mean()\n",
    "    avg_score_venue[ven] = avg_score\n",
    "sort_orders = sorted(avg_score_venue.items(), key=lambda x: x[1])\n",
    "print(sort_orders)\n",
    "priority = 1\n",
    "venue_priority = {}\n",
    "for ven in sort_orders:\n",
    "    venue_priority[ven[0]] = priority\n",
    "    priority+=1\n",
    "venue_priority"
   ]
  },
  {
   "cell_type": "markdown",
   "metadata": {},
   "source": [
    "#### Deciding the batting team priority manually"
   ]
  },
  {
   "cell_type": "code",
   "execution_count": 29,
   "metadata": {},
   "outputs": [],
   "source": [
    "#Batting Priority Manual\n",
    "batting_priority_manual = {\n",
    "    'Chennai Super Kings': 5,\n",
    "     'Royal Challengers Bangalore': 8,\n",
    "     'Delhi Capitals': 7,\n",
    "     'Rajasthan Royals': 1,\n",
    "     'Mumbai Indians': 2,\n",
    "     'Punjab Kings': 3,\n",
    "     'Sunrisers Hyderabad': 6,\n",
    "     'Kolkata Knight Riders': 4\n",
    "}"
   ]
  },
  {
   "cell_type": "markdown",
   "metadata": {},
   "source": [
    "#### Deciding the batting team priority manually"
   ]
  },
  {
   "cell_type": "code",
   "execution_count": 30,
   "metadata": {},
   "outputs": [],
   "source": [
    "#Bowling Priority Manual\n",
    "bowling_priority_manual = {\n",
    "     'Chennai Super Kings': 8,\n",
    "     'Royal Challengers Bangalore': 4,\n",
    "     'Delhi Capitals': 3,\n",
    "     'Rajasthan Royals': 1,\n",
    "     'Mumbai Indians': 6,\n",
    "     'Punjab Kings': 5,\n",
    "     'Sunrisers Hyderabad': 7,\n",
    "     'Kolkata Knight Riders':2\n",
    "    \n",
    "}"
   ]
  },
  {
   "cell_type": "markdown",
   "metadata": {},
   "source": [
    "#### Performing the Ordinal Encoding Using the Orders defined earlier"
   ]
  },
  {
   "cell_type": "code",
   "execution_count": 31,
   "metadata": {},
   "outputs": [
    {
     "data": {
      "text/html": [
       "<div>\n",
       "<style scoped>\n",
       "    .dataframe tbody tr th:only-of-type {\n",
       "        vertical-align: middle;\n",
       "    }\n",
       "\n",
       "    .dataframe tbody tr th {\n",
       "        vertical-align: top;\n",
       "    }\n",
       "\n",
       "    .dataframe thead th {\n",
       "        text-align: right;\n",
       "    }\n",
       "</style>\n",
       "<table border=\"1\" class=\"dataframe\">\n",
       "  <thead>\n",
       "    <tr style=\"text-align: right;\">\n",
       "      <th></th>\n",
       "      <th>venue</th>\n",
       "      <th>innings</th>\n",
       "      <th>batting_team</th>\n",
       "      <th>bowling_team</th>\n",
       "      <th>score</th>\n",
       "      <th>no_of_batsmen</th>\n",
       "    </tr>\n",
       "  </thead>\n",
       "  <tbody>\n",
       "    <tr>\n",
       "      <th>0</th>\n",
       "      <td>M Chinnaswamy Stadium</td>\n",
       "      <td>1</td>\n",
       "      <td>Kolkata Knight Riders</td>\n",
       "      <td>Royal Challengers Bangalore</td>\n",
       "      <td>61</td>\n",
       "      <td>3</td>\n",
       "    </tr>\n",
       "    <tr>\n",
       "      <th>1</th>\n",
       "      <td>MA Chidambaram Stadium</td>\n",
       "      <td>1</td>\n",
       "      <td>Kolkata Knight Riders</td>\n",
       "      <td>Chennai Super Kings</td>\n",
       "      <td>61</td>\n",
       "      <td>5</td>\n",
       "    </tr>\n",
       "    <tr>\n",
       "      <th>2</th>\n",
       "      <td>Eden Gardens</td>\n",
       "      <td>1</td>\n",
       "      <td>Kolkata Knight Riders</td>\n",
       "      <td>Mumbai Indians</td>\n",
       "      <td>40</td>\n",
       "      <td>5</td>\n",
       "    </tr>\n",
       "    <tr>\n",
       "      <th>3</th>\n",
       "      <td>Sawai Mansingh Stadium</td>\n",
       "      <td>2</td>\n",
       "      <td>Kolkata Knight Riders</td>\n",
       "      <td>Rajasthan Royals</td>\n",
       "      <td>51</td>\n",
       "      <td>4</td>\n",
       "    </tr>\n",
       "    <tr>\n",
       "      <th>4</th>\n",
       "      <td>Punjab Cricket Association Stadium, Mohali</td>\n",
       "      <td>2</td>\n",
       "      <td>Kolkata Knight Riders</td>\n",
       "      <td>Punjab Kings</td>\n",
       "      <td>31</td>\n",
       "      <td>6</td>\n",
       "    </tr>\n",
       "  </tbody>\n",
       "</table>\n",
       "</div>"
      ],
      "text/plain": [
       "                                        venue  innings           batting_team  \\\n",
       "0                       M Chinnaswamy Stadium        1  Kolkata Knight Riders   \n",
       "1                      MA Chidambaram Stadium        1  Kolkata Knight Riders   \n",
       "2                                Eden Gardens        1  Kolkata Knight Riders   \n",
       "3                      Sawai Mansingh Stadium        2  Kolkata Knight Riders   \n",
       "4  Punjab Cricket Association Stadium, Mohali        2  Kolkata Knight Riders   \n",
       "\n",
       "                  bowling_team  score  no_of_batsmen  \n",
       "0  Royal Challengers Bangalore     61              3  \n",
       "1          Chennai Super Kings     61              5  \n",
       "2               Mumbai Indians     40              5  \n",
       "3             Rajasthan Royals     51              4  \n",
       "4                 Punjab Kings     31              6  "
      ]
     },
     "execution_count": 31,
     "metadata": {},
     "output_type": "execute_result"
    }
   ],
   "source": [
    "#Creatinf the Copy of our dataset, this will be used by the model and so it's names is defined as model_data\n",
    "model_data = final_data.copy()\n",
    "\n",
    "#Match Id and Start Date is not needed and hence we are dropping it here\n",
    "model_data= model_data.drop(columns=['match_id','start_date'])\n",
    "\n",
    "model_data.head()"
   ]
  },
  {
   "cell_type": "markdown",
   "metadata": {},
   "source": [
    "**Note: Here we have dropped the start date, however the same can be kept and used for test train split ahead** "
   ]
  },
  {
   "cell_type": "code",
   "execution_count": 32,
   "metadata": {},
   "outputs": [
    {
     "data": {
      "text/html": [
       "<div>\n",
       "<style scoped>\n",
       "    .dataframe tbody tr th:only-of-type {\n",
       "        vertical-align: middle;\n",
       "    }\n",
       "\n",
       "    .dataframe tbody tr th {\n",
       "        vertical-align: top;\n",
       "    }\n",
       "\n",
       "    .dataframe thead th {\n",
       "        text-align: right;\n",
       "    }\n",
       "</style>\n",
       "<table border=\"1\" class=\"dataframe\">\n",
       "  <thead>\n",
       "    <tr style=\"text-align: right;\">\n",
       "      <th></th>\n",
       "      <th>innings</th>\n",
       "      <th>score</th>\n",
       "      <th>no_of_batsmen</th>\n",
       "      <th>venue_enc</th>\n",
       "      <th>batting_team_enc</th>\n",
       "      <th>bowling_team_enc</th>\n",
       "    </tr>\n",
       "  </thead>\n",
       "  <tbody>\n",
       "    <tr>\n",
       "      <th>0</th>\n",
       "      <td>1</td>\n",
       "      <td>61</td>\n",
       "      <td>3</td>\n",
       "      <td>18</td>\n",
       "      <td>4</td>\n",
       "      <td>4</td>\n",
       "    </tr>\n",
       "    <tr>\n",
       "      <th>1</th>\n",
       "      <td>1</td>\n",
       "      <td>61</td>\n",
       "      <td>5</td>\n",
       "      <td>22</td>\n",
       "      <td>4</td>\n",
       "      <td>8</td>\n",
       "    </tr>\n",
       "    <tr>\n",
       "      <th>2</th>\n",
       "      <td>1</td>\n",
       "      <td>40</td>\n",
       "      <td>5</td>\n",
       "      <td>19</td>\n",
       "      <td>4</td>\n",
       "      <td>6</td>\n",
       "    </tr>\n",
       "    <tr>\n",
       "      <th>3</th>\n",
       "      <td>2</td>\n",
       "      <td>51</td>\n",
       "      <td>4</td>\n",
       "      <td>14</td>\n",
       "      <td>4</td>\n",
       "      <td>1</td>\n",
       "    </tr>\n",
       "    <tr>\n",
       "      <th>4</th>\n",
       "      <td>2</td>\n",
       "      <td>31</td>\n",
       "      <td>6</td>\n",
       "      <td>26</td>\n",
       "      <td>4</td>\n",
       "      <td>5</td>\n",
       "    </tr>\n",
       "  </tbody>\n",
       "</table>\n",
       "</div>"
      ],
      "text/plain": [
       "   innings  score  no_of_batsmen  venue_enc  batting_team_enc  \\\n",
       "0        1     61              3         18                 4   \n",
       "1        1     61              5         22                 4   \n",
       "2        1     40              5         19                 4   \n",
       "3        2     51              4         14                 4   \n",
       "4        2     31              6         26                 4   \n",
       "\n",
       "   bowling_team_enc  \n",
       "0                 4  \n",
       "1                 8  \n",
       "2                 6  \n",
       "3                 1  \n",
       "4                 5  "
      ]
     },
     "execution_count": 32,
     "metadata": {},
     "output_type": "execute_result"
    }
   ],
   "source": [
    "#Ordinal Encoding \n",
    "ordinal_enc_model_data = model_data.copy()\n",
    "ordinal_enc_model_data[\"venue_enc\"] = ordinal_enc_model_data[\"venue\"].map(venue_priority)\n",
    "ordinal_enc_model_data[\"batting_team_enc\"] = ordinal_enc_model_data[\"batting_team\"].map(batting_priority_manual)\n",
    "ordinal_enc_model_data[\"bowling_team_enc\"] = ordinal_enc_model_data[\"bowling_team\"].map(bowling_priority_manual)\n",
    "\n",
    "#Dropping the Categorical Data\n",
    "ordinal_enc_model_data = ordinal_enc_model_data.drop(columns=['venue','batting_team', 'bowling_team'])\n",
    "ordinal_enc_model_data.head()"
   ]
  },
  {
   "cell_type": "markdown",
   "metadata": {},
   "source": [
    "### Test Train Split"
   ]
  },
  {
   "cell_type": "code",
   "execution_count": 33,
   "metadata": {},
   "outputs": [],
   "source": [
    "used_data = ordinal_enc_model_data.copy()# data used to train the model finally\n",
    "X = used_data.drop(columns=['score'])\n",
    "y = used_data['score']"
   ]
  },
  {
   "cell_type": "code",
   "execution_count": 34,
   "metadata": {},
   "outputs": [
    {
     "data": {
      "text/html": [
       "<div>\n",
       "<style scoped>\n",
       "    .dataframe tbody tr th:only-of-type {\n",
       "        vertical-align: middle;\n",
       "    }\n",
       "\n",
       "    .dataframe tbody tr th {\n",
       "        vertical-align: top;\n",
       "    }\n",
       "\n",
       "    .dataframe thead th {\n",
       "        text-align: right;\n",
       "    }\n",
       "</style>\n",
       "<table border=\"1\" class=\"dataframe\">\n",
       "  <thead>\n",
       "    <tr style=\"text-align: right;\">\n",
       "      <th></th>\n",
       "      <th>innings</th>\n",
       "      <th>no_of_batsmen</th>\n",
       "      <th>venue_enc</th>\n",
       "      <th>batting_team_enc</th>\n",
       "      <th>bowling_team_enc</th>\n",
       "    </tr>\n",
       "  </thead>\n",
       "  <tbody>\n",
       "    <tr>\n",
       "      <th>0</th>\n",
       "      <td>1</td>\n",
       "      <td>3</td>\n",
       "      <td>18</td>\n",
       "      <td>4</td>\n",
       "      <td>4</td>\n",
       "    </tr>\n",
       "    <tr>\n",
       "      <th>1</th>\n",
       "      <td>1</td>\n",
       "      <td>5</td>\n",
       "      <td>22</td>\n",
       "      <td>4</td>\n",
       "      <td>8</td>\n",
       "    </tr>\n",
       "    <tr>\n",
       "      <th>2</th>\n",
       "      <td>1</td>\n",
       "      <td>5</td>\n",
       "      <td>19</td>\n",
       "      <td>4</td>\n",
       "      <td>6</td>\n",
       "    </tr>\n",
       "    <tr>\n",
       "      <th>3</th>\n",
       "      <td>2</td>\n",
       "      <td>4</td>\n",
       "      <td>14</td>\n",
       "      <td>4</td>\n",
       "      <td>1</td>\n",
       "    </tr>\n",
       "    <tr>\n",
       "      <th>4</th>\n",
       "      <td>2</td>\n",
       "      <td>6</td>\n",
       "      <td>26</td>\n",
       "      <td>4</td>\n",
       "      <td>5</td>\n",
       "    </tr>\n",
       "  </tbody>\n",
       "</table>\n",
       "</div>"
      ],
      "text/plain": [
       "   innings  no_of_batsmen  venue_enc  batting_team_enc  bowling_team_enc\n",
       "0        1              3         18                 4                 4\n",
       "1        1              5         22                 4                 8\n",
       "2        1              5         19                 4                 6\n",
       "3        2              4         14                 4                 1\n",
       "4        2              6         26                 4                 5"
      ]
     },
     "execution_count": 34,
     "metadata": {},
     "output_type": "execute_result"
    }
   ],
   "source": [
    "X.head()"
   ]
  },
  {
   "cell_type": "code",
   "execution_count": 35,
   "metadata": {},
   "outputs": [
    {
     "data": {
      "text/plain": [
       "0    61\n",
       "1    61\n",
       "2    40\n",
       "3    51\n",
       "4    31\n",
       "Name: score, dtype: int32"
      ]
     },
     "execution_count": 35,
     "metadata": {},
     "output_type": "execute_result"
    }
   ],
   "source": [
    "y.head()"
   ]
  },
  {
   "cell_type": "code",
   "execution_count": 36,
   "metadata": {},
   "outputs": [],
   "source": [
    "# CODE for Date based split \n",
    "# X_train = enc_model_data[enc_model_data['start_date'] < 2018]\n",
    "# X_test = enc_model_data[enc_model_data['start_date'] >= 2018]\n",
    "\n",
    "# y_train = np.array(X_train[\"score\"])\n",
    "# y_test = np.array(X_test[\"score\"])\n",
    "\n",
    "from sklearn.model_selection import train_test_split\n",
    "X_train, X_test, y_train, y_test = train_test_split(X, y, test_size=0.20,shuffle=True, random_state=42)"
   ]
  },
  {
   "cell_type": "code",
   "execution_count": 37,
   "metadata": {},
   "outputs": [
    {
     "name": "stdout",
     "output_type": "stream",
     "text": [
      "X_train shape:  (1013, 5)\n",
      "y_train shape:  (1013,)\n",
      "X_test shape:  (254, 5)\n",
      "y_test shape:  (254,)\n"
     ]
    }
   ],
   "source": [
    "#Shape of the Dataset\n",
    "print(\"X_train shape: \", X_train.shape)\n",
    "print(\"y_train shape: \", y_train.shape)\n",
    "print(\"X_test shape: \", X_test.shape)\n",
    "print(\"y_test shape: \", y_test.shape)"
   ]
  },
  {
   "cell_type": "code",
   "execution_count": 41,
   "metadata": {},
   "outputs": [],
   "source": [
    "# Defining the a metric Calculation Function to Calcultae the Model Performance\n",
    "def metrics_scores(y_test,pred):\n",
    "    print(\"MAE: \", metrics.mean_absolute_error(y_test, pred))\n",
    "    print(\"MSE: \", metrics.mean_squared_error(y_test, pred))\n",
    "    print(\"RMSE: \", np.sqrt(metrics.mean_squared_error(y_test, pred)))\n",
    "    print(\"R2 Score: \",reg_model.score(X_test,y_test))\n",
    "    print(\"RSS( Residual Sum of Squares): \",metrics.mean_squared_error(y_test, reg_model.predict(X_test))*X_test.shape[0])"
   ]
  },
  {
   "cell_type": "markdown",
   "metadata": {},
   "source": [
    "### Preparing the Model"
   ]
  },
  {
   "cell_type": "markdown",
   "metadata": {},
   "source": [
    "#### 1) Linear Regresison Model"
   ]
  },
  {
   "cell_type": "code",
   "execution_count": 44,
   "metadata": {},
   "outputs": [
    {
     "name": "stdout",
     "output_type": "stream",
     "text": [
      "MAE:  8.076901949914161\n",
      "MSE:  110.25136641989164\n",
      "RMSE:  10.50006506741228\n",
      "R2 Score:  0.2014244446698389\n",
      "RSS( Residual Sum of Squares):  28003.847070652475\n"
     ]
    }
   ],
   "source": [
    "reg_model = LinearRegression()\n",
    "reg_model.fit(X_train, y_train)\n",
    "\n",
    "# Model Perfomance\n",
    "metrics_scores(y_test,reg_model.predict(X_test))"
   ]
  },
  {
   "cell_type": "markdown",
   "metadata": {},
   "source": [
    "> **Predicting Randomly**"
   ]
  },
  {
   "cell_type": "code",
   "execution_count": 46,
   "metadata": {},
   "outputs": [
    {
     "name": "stdout",
     "output_type": "stream",
     "text": [
      "0. True Value: 29         Prdicted Value: [46.85783886]\n",
      "1. True Value: 38         Prdicted Value: [43.7427609]\n",
      "2. True Value: 47         Prdicted Value: [53.71580386]\n",
      "3. True Value: 22         Prdicted Value: [41.49419332]\n",
      "4. True Value: 41         Prdicted Value: [51.64434626]\n",
      "5. True Value: 45         Prdicted Value: [46.14402441]\n",
      "6. True Value: 45         Prdicted Value: [40.28273179]\n",
      "7. True Value: 39         Prdicted Value: [49.31392568]\n",
      "8. True Value: 25         Prdicted Value: [36.02365565]\n",
      "9. True Value: 66         Prdicted Value: [54.88327603]\n",
      "10. True Value: 43         Prdicted Value: [46.75902618]\n",
      "11. True Value: 53         Prdicted Value: [47.88475269]\n",
      "12. True Value: 17         Prdicted Value: [41.69181868]\n",
      "13. True Value: 40         Prdicted Value: [50.55834685]\n",
      "14. True Value: 15         Prdicted Value: [42.85345511]\n"
     ]
    }
   ],
   "source": [
    "for i in range(15):\n",
    "    d = np.array([X_test.iloc[i,:]])\n",
    "    true_value = y_test.iloc[i]\n",
    "    pred_value = reg_model.predict(d)\n",
    "    print(f\"{i}. True Value: {true_value}         Prdicted Value: {pred_value}\")"
   ]
  },
  {
   "cell_type": "markdown",
   "metadata": {},
   "source": [
    "#### 2) Ridge Regression"
   ]
  },
  {
   "cell_type": "code",
   "execution_count": 47,
   "metadata": {},
   "outputs": [
    {
     "name": "stdout",
     "output_type": "stream",
     "text": [
      "MAE:  8.075499181611896\n",
      "MSE:  110.25393587587322\n",
      "RMSE:  10.500187420987933\n",
      "R2 Score:  0.2014244446698389\n",
      "RSS( Residual Sum of Squares):  28003.847070652475\n"
     ]
    }
   ],
   "source": [
    "from sklearn.linear_model import Ridge\n",
    "from sklearn.model_selection import GridSearchCV\n",
    "\n",
    "ridge = Ridge()\n",
    "alpha_values = {'alpha':[1e-15, 1e-10, 1e-8, 1e-3, 1e-2, 1, 5, 10, 20, 30 , 35, 40]}\n",
    "ridge_regressor = GridSearchCV(ridge, alpha_values, scoring = \"neg_mean_squared_error\", cv = 5)\n",
    "ridge_regressor.fit(X_train, y_train)\n",
    "\n",
    "# Model Perfomance\n",
    "metrics_scores(y_test,ridge_regressor.predict(X_test))"
   ]
  },
  {
   "cell_type": "code",
   "execution_count": 48,
   "metadata": {},
   "outputs": [
    {
     "name": "stdout",
     "output_type": "stream",
     "text": [
      "{'alpha': 10}\n",
      "-124.20980965386825\n"
     ]
    }
   ],
   "source": [
    "print(ridge_regressor.best_params_)\n",
    "print(ridge_regressor.best_score_)"
   ]
  },
  {
   "cell_type": "markdown",
   "metadata": {},
   "source": [
    "> **Predicting Randomly**"
   ]
  },
  {
   "cell_type": "code",
   "execution_count": 49,
   "metadata": {},
   "outputs": [
    {
     "name": "stdout",
     "output_type": "stream",
     "text": [
      "0. True Value: 29         Prdeicted Value: [46.88326499]\n",
      "1. True Value: 38         Prdeicted Value: [43.80467249]\n",
      "2. True Value: 47         Prdeicted Value: [53.63478569]\n",
      "3. True Value: 22         Prdeicted Value: [41.51721305]\n",
      "4. True Value: 41         Prdeicted Value: [51.59072204]\n",
      "5. True Value: 45         Prdeicted Value: [46.21020979]\n",
      "6. True Value: 45         Prdeicted Value: [40.3039344]\n",
      "7. True Value: 39         Prdeicted Value: [49.33968642]\n",
      "8. True Value: 25         Prdeicted Value: [36.15369079]\n",
      "9. True Value: 66         Prdeicted Value: [54.80107857]\n",
      "10. True Value: 43         Prdeicted Value: [46.78539509]\n",
      "11. True Value: 53         Prdeicted Value: [47.83567707]\n",
      "12. True Value: 17         Prdeicted Value: [41.71295284]\n",
      "13. True Value: 40         Prdeicted Value: [50.54482936]\n",
      "14. True Value: 15         Prdeicted Value: [42.91062016]\n"
     ]
    }
   ],
   "source": [
    "#Random Prediction\n",
    "for i in range(15):\n",
    "    d = np.array([X_test.iloc[i,:]])\n",
    "    true_value = y_test.iloc[i]\n",
    "    pred_value = ridge_regressor.predict(d)\n",
    "    print(f\"{i}. True Value: {true_value}         Prdeicted Value: {pred_value}\")"
   ]
  },
  {
   "cell_type": "markdown",
   "metadata": {},
   "source": [
    "#### 3) Random Forest Regressor"
   ]
  },
  {
   "cell_type": "code",
   "execution_count": 50,
   "metadata": {},
   "outputs": [
    {
     "name": "stdout",
     "output_type": "stream",
     "text": [
      "MAE:  8.305126288955865\n",
      "MSE:  117.4638702725596\n",
      "RMSE:  10.838075026154765\n",
      "R2 Score:  0.2014244446698389\n",
      "RSS( Residual Sum of Squares):  28003.847070652475\n"
     ]
    }
   ],
   "source": [
    "from sklearn.ensemble import RandomForestRegressor\n",
    "\n",
    "regr = RandomForestRegressor(max_depth=2, random_state=0)\n",
    "regr.fit(X_train, y_train)\n",
    "\n",
    "#Model Performance \n",
    "metrics_scores(y_test,regr.predict(X_test))"
   ]
  },
  {
   "cell_type": "markdown",
   "metadata": {},
   "source": [
    "> **Predicting Randomly**"
   ]
  },
  {
   "cell_type": "code",
   "execution_count": 51,
   "metadata": {},
   "outputs": [
    {
     "name": "stdout",
     "output_type": "stream",
     "text": [
      "Array is [[ 2  3 27  7  2]] and 0. True Value: 29         Prdeicted Value: [48.605813]\n",
      "Array is [[ 1  3 27  5  3]] and 1. True Value: 38         Prdeicted Value: [48.605813]\n",
      "Array is [[ 2  2 27  3  3]] and 2. True Value: 47         Prdeicted Value: [52.68852512]\n",
      "Array is [[ 2  2 27  5  3]] and 3. True Value: 22         Prdeicted Value: [52.68852512]\n",
      "Array is [[ 2  2 27  5  3]] and 4. True Value: 41         Prdeicted Value: [52.68852512]\n",
      "Array is [[ 2  2 27  3  3]] and 5. True Value: 45         Prdeicted Value: [52.68852512]\n",
      "Array is [[ 2  3 27  2  3]] and 6. True Value: 45         Prdeicted Value: [48.605813]\n",
      "Array is [[ 1  3 27  7  7]] and 7. True Value: 39         Prdeicted Value: [48.56363835]\n",
      "Array is [[ 2  4 27  3  3]] and 8. True Value: 25         Prdeicted Value: [42.96132753]\n",
      "Array is [[ 2  3 27  7  7]] and 9. True Value: 66         Prdeicted Value: [48.56363835]\n",
      "Array is [[ 1  4 27  7  8]] and 10. True Value: 43         Prdeicted Value: [42.83674055]\n",
      "Array is [[ 1  4 27  7  4]] and 11. True Value: 53         Prdeicted Value: [42.83674055]\n",
      "Array is [[ 2  3 27  6  3]] and 12. True Value: 17         Prdeicted Value: [48.605813]\n",
      "Array is [[ 2  3 27  2  3]] and 13. True Value: 40         Prdeicted Value: [48.605813]\n",
      "Array is [[ 2  3 27  7  1]] and 14. True Value: 15         Prdeicted Value: [48.605813]\n",
      "Array is [[ 1  4 27  7  2]] and 15. True Value: 52         Prdeicted Value: [42.83674055]\n",
      "Array is [[ 2  4 27  8  3]] and 16. True Value: 26         Prdeicted Value: [42.96132753]\n",
      "Array is [[ 2  3 27  8  3]] and 17. True Value: 50         Prdeicted Value: [48.605813]\n",
      "Array is [[ 1  4 27  8  3]] and 18. True Value: 32         Prdeicted Value: [42.83674055]\n",
      "Array is [[ 1  4 27  3  3]] and 19. True Value: 59         Prdeicted Value: [42.83674055]\n",
      "Array is [[ 2  3 27  1  3]] and 20. True Value: 56         Prdeicted Value: [48.605813]\n",
      "Array is [[ 1  5 27  7  7]] and 21. True Value: 67         Prdeicted Value: [42.56814288]\n",
      "Array is [[ 2  4 27  7  6]] and 22. True Value: 38         Prdeicted Value: [42.96132753]\n",
      "Array is [[ 1  2 27  7  5]] and 23. True Value: 48         Prdeicted Value: [52.68852512]\n",
      "Array is [[ 2  2 27  7  6]] and 24. True Value: 46         Prdeicted Value: [52.64635047]\n",
      "Array is [[ 2  4 27  6  3]] and 25. True Value: 49         Prdeicted Value: [42.96132753]\n",
      "Array is [[ 1  3 27  7  4]] and 26. True Value: 28         Prdeicted Value: [48.605813]\n",
      "Array is [[ 1  5 27  7  2]] and 27. True Value: 41         Prdeicted Value: [42.56814288]\n",
      "Array is [[ 2  6 27  1  3]] and 28. True Value: 35         Prdeicted Value: [41.70099913]\n"
     ]
    }
   ],
   "source": [
    "#Random Prediction for Anrun Jatley Stadium\n",
    "for i in range(len(X_test[X_test[\"venue_enc\"] == 27])):\n",
    "    d = np.array([X_test[X_test[\"venue_enc\"] == 27].iloc[i,:]])\n",
    "    true_value = y_test.iloc[i]\n",
    "    pred_value = regr.predict(d)\n",
    "    print(f\"Array is {d} and {i}. True Value: {true_value}         Prdeicted Value: {pred_value}\")"
   ]
  },
  {
   "cell_type": "markdown",
   "metadata": {},
   "source": [
    "### Doing Some Manual Predictions on Real Data of IPL 2021"
   ]
  },
  {
   "cell_type": "code",
   "execution_count": 53,
   "metadata": {},
   "outputs": [
    {
     "name": "stdout",
     "output_type": "stream",
     "text": [
      "Regression:  [55.48021026]\n",
      "Ridge:  [55.39289458]\n",
      "Random Forest:  [52.68852512]\n"
     ]
    }
   ],
   "source": [
    "#Order is :innings\tno_of_batsmen\tvenue_enc\tbatting_team_enc\tbowling_team_enc\n",
    "inputArray = np.array([[2,2,27,7,2]])\n",
    "print(\"Regression: \", reg_model.predict(inputArray))\n",
    "print(\"Ridge: \", ridge_regressor.predict(inputArray))\n",
    "print(\"Random Forest: \", regr.predict(inputArray))"
   ]
  },
  {
   "cell_type": "markdown",
   "metadata": {},
   "source": [
    "> #### By Observing the Performance of Modesl on test dataset and the real time data predictions, the Ridge Regressor Model is selected"
   ]
  },
  {
   "cell_type": "markdown",
   "metadata": {},
   "source": [
    "###  Dumping the Model into a Pickle File"
   ]
  },
  {
   "cell_type": "code",
   "execution_count": 54,
   "metadata": {},
   "outputs": [],
   "source": [
    "import joblib"
   ]
  },
  {
   "cell_type": "code",
   "execution_count": 55,
   "metadata": {},
   "outputs": [
    {
     "data": {
      "text/plain": [
       "['ordinal_enc_ridge_regressor_batsmen.pkl']"
      ]
     },
     "execution_count": 55,
     "metadata": {},
     "output_type": "execute_result"
    }
   ],
   "source": [
    "filename = 'ordinal_enc_ridge_regressor_batsmen.pkl'\n",
    "joblib.dump(ridge_regressor, filename)"
   ]
  },
  {
   "cell_type": "markdown",
   "metadata": {},
   "source": [
    "#### Predicting using Model"
   ]
  },
  {
   "cell_type": "code",
   "execution_count": 57,
   "metadata": {},
   "outputs": [
    {
     "data": {
      "text/plain": [
       "array([55.39289458])"
      ]
     },
     "execution_count": 57,
     "metadata": {},
     "output_type": "execute_result"
    }
   ],
   "source": [
    "#prediction form the joblib model\n",
    "filename_import = 'ordinal_enc_ridge_regressor_batsmen.pkl'\n",
    "my_model = joblib.load(filename_import)\n",
    "inputArray = np.array([[2,2,27,7,2]])\n",
    "my_model.predict(inputArray)"
   ]
  },
  {
   "cell_type": "markdown",
   "metadata": {},
   "source": [
    "**--------------------------------------------------------------------------------------------- END ----------------------------------------------------------------------------------------------------**"
   ]
  }
 ],
 "metadata": {
  "kernelspec": {
   "display_name": "Python 3",
   "language": "python",
   "name": "python3"
  },
  "language_info": {
   "codemirror_mode": {
    "name": "ipython",
    "version": 3
   },
   "file_extension": ".py",
   "mimetype": "text/x-python",
   "name": "python",
   "nbconvert_exporter": "python",
   "pygments_lexer": "ipython3",
   "version": "3.8.6"
  }
 },
 "nbformat": 4,
 "nbformat_minor": 4
}
